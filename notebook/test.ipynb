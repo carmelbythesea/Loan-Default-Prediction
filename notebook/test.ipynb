{
 "cells": [
  {
   "cell_type": "markdown",
   "metadata": {},
   "source": [
    "# Preliminary study"
   ]
  },
  {
   "cell_type": "code",
   "execution_count": 176,
   "metadata": {},
   "outputs": [],
   "source": [
    "import pandas as pd\n",
    "import numpy as np\n",
    "import matplotlib.pyplot as plt\n",
    "import math\n",
    "import time\n",
    "import statistics\n",
    "import scipy.stats"
   ]
  },
  {
   "cell_type": "code",
   "execution_count": 52,
   "metadata": {},
   "outputs": [],
   "source": [
    "from scipy.stats import chi2_contingency"
   ]
  },
  {
   "cell_type": "code",
   "execution_count": 437,
   "metadata": {},
   "outputs": [],
   "source": [
    "from sklearn.utils import resample\n",
    "from sklearn import preprocessing\n",
    "from sklearn.compose import ColumnTransformer\n",
    "from sklearn.preprocessing import OneHotEncoder\n",
    "import category_encoders as ce\n",
    "from sklearn.model_selection import train_test_split"
   ]
  },
  {
   "cell_type": "code",
   "execution_count": 531,
   "metadata": {},
   "outputs": [],
   "source": [
    "from sklearn.feature_selection import SelectKBest\n",
    "from sklearn.feature_selection import chi2\n",
    "from sklearn.neighbors import KNeighborsClassifier\n",
    "from sklearn.linear_model import LogisticRegression\n",
    "from sklearn.tree import DecisionTreeClassifier\n",
    "from sklearn.ensemble import RandomForestClassifier\n",
    "from xgboost import XGBClassifier\n",
    "from sklearn import svm\n",
    "from sklearn.model_selection import cross_val_score"
   ]
  },
  {
   "cell_type": "code",
   "execution_count": 4,
   "metadata": {},
   "outputs": [],
   "source": [
    "name = 'sample_200_0k_20170120.csv'\n",
    "df = pd.read_csv(name)"
   ]
  },
  {
   "cell_type": "code",
   "execution_count": 5,
   "metadata": {},
   "outputs": [
    {
     "data": {
      "text/html": [
       "<div>\n",
       "<style scoped>\n",
       "    .dataframe tbody tr th:only-of-type {\n",
       "        vertical-align: middle;\n",
       "    }\n",
       "\n",
       "    .dataframe tbody tr th {\n",
       "        vertical-align: top;\n",
       "    }\n",
       "\n",
       "    .dataframe thead th {\n",
       "        text-align: right;\n",
       "    }\n",
       "</style>\n",
       "<table border=\"1\" class=\"dataframe\">\n",
       "  <thead>\n",
       "    <tr style=\"text-align: right;\">\n",
       "      <th></th>\n",
       "      <th>gender</th>\n",
       "      <th>birthdate</th>\n",
       "      <th>maritalstatus</th>\n",
       "      <th>numofdependence</th>\n",
       "      <th>education</th>\n",
       "      <th>professionid</th>\n",
       "      <th>homestatus</th>\n",
       "      <th>staysinceyear</th>\n",
       "      <th>EmploymentSinceYear</th>\n",
       "      <th>MainBusinessSinceYear</th>\n",
       "      <th>...</th>\n",
       "      <th>std_sale_apartment_price_10000</th>\n",
       "      <th>sale_apartment_cnt_10000</th>\n",
       "      <th>avg_rent_house_price_10000</th>\n",
       "      <th>std_rent_house_price_10000</th>\n",
       "      <th>rent_house_cnt_10000</th>\n",
       "      <th>avg_rent_apartment_price_10000</th>\n",
       "      <th>std_rent_apartment_price_10000</th>\n",
       "      <th>rent_apartment_cnt_10000</th>\n",
       "      <th>previous</th>\n",
       "      <th>distance_residence_company</th>\n",
       "    </tr>\n",
       "  </thead>\n",
       "  <tbody>\n",
       "    <tr>\n",
       "      <th>0</th>\n",
       "      <td>Male</td>\n",
       "      <td>1985-12-15T17:00:00.000+00:00</td>\n",
       "      <td>SINGLE</td>\n",
       "      <td>0</td>\n",
       "      <td>BACHELOR_DEGREE</td>\n",
       "      <td>Government employees</td>\n",
       "      <td>4</td>\n",
       "      <td>2010.0</td>\n",
       "      <td>2006.0</td>\n",
       "      <td>NaN</td>\n",
       "      <td>...</td>\n",
       "      <td>2.199754e+08</td>\n",
       "      <td>26.0</td>\n",
       "      <td>7.216985e+07</td>\n",
       "      <td>3.546624e+08</td>\n",
       "      <td>406.0</td>\n",
       "      <td>5.366614e+06</td>\n",
       "      <td>2.020980e+07</td>\n",
       "      <td>121.0</td>\n",
       "      <td>NaN</td>\n",
       "      <td>0.0</td>\n",
       "    </tr>\n",
       "    <tr>\n",
       "      <th>1</th>\n",
       "      <td>Male</td>\n",
       "      <td>1969-12-20T17:00:00.000+00:00</td>\n",
       "      <td>MARRIED</td>\n",
       "      <td>2</td>\n",
       "      <td>ELEMENTARY_SCHOOL</td>\n",
       "      <td>Entrepreneur</td>\n",
       "      <td>1</td>\n",
       "      <td>1992.0</td>\n",
       "      <td>NaN</td>\n",
       "      <td>2005.0</td>\n",
       "      <td>...</td>\n",
       "      <td>2.387715e+08</td>\n",
       "      <td>18.0</td>\n",
       "      <td>7.216985e+07</td>\n",
       "      <td>3.546624e+08</td>\n",
       "      <td>406.0</td>\n",
       "      <td>5.366614e+06</td>\n",
       "      <td>2.020980e+07</td>\n",
       "      <td>121.0</td>\n",
       "      <td>2012-09-11 03:40:58,2850000.00,7,0.00</td>\n",
       "      <td>0.0</td>\n",
       "    </tr>\n",
       "    <tr>\n",
       "      <th>2</th>\n",
       "      <td>Female</td>\n",
       "      <td>1976-08-17T17:00:00.000+00:00</td>\n",
       "      <td>MARRIED</td>\n",
       "      <td>2</td>\n",
       "      <td>SENIOR_HIGH_SCHOOL</td>\n",
       "      <td>Entrepreneur</td>\n",
       "      <td>1</td>\n",
       "      <td>2008.0</td>\n",
       "      <td>NaN</td>\n",
       "      <td>2010.0</td>\n",
       "      <td>...</td>\n",
       "      <td>2.387715e+08</td>\n",
       "      <td>18.0</td>\n",
       "      <td>7.216985e+07</td>\n",
       "      <td>3.546624e+08</td>\n",
       "      <td>406.0</td>\n",
       "      <td>5.366614e+06</td>\n",
       "      <td>2.020980e+07</td>\n",
       "      <td>121.0</td>\n",
       "      <td>NaN</td>\n",
       "      <td>0.0</td>\n",
       "    </tr>\n",
       "    <tr>\n",
       "      <th>3</th>\n",
       "      <td>Male</td>\n",
       "      <td>1985-01-09T17:00:00.000+00:00</td>\n",
       "      <td>MARRIED</td>\n",
       "      <td>1</td>\n",
       "      <td>ELEMENTARY_SCHOOL</td>\n",
       "      <td>Entrepreneur</td>\n",
       "      <td>1</td>\n",
       "      <td>2002.0</td>\n",
       "      <td>NaN</td>\n",
       "      <td>2005.0</td>\n",
       "      <td>...</td>\n",
       "      <td>2.387715e+08</td>\n",
       "      <td>18.0</td>\n",
       "      <td>7.216985e+07</td>\n",
       "      <td>3.546624e+08</td>\n",
       "      <td>406.0</td>\n",
       "      <td>5.366614e+06</td>\n",
       "      <td>2.020980e+07</td>\n",
       "      <td>121.0</td>\n",
       "      <td>NaN</td>\n",
       "      <td>0.0</td>\n",
       "    </tr>\n",
       "    <tr>\n",
       "      <th>4</th>\n",
       "      <td>Female</td>\n",
       "      <td>1979-08-16T17:00:00.000+00:00</td>\n",
       "      <td>MARRIED</td>\n",
       "      <td>1</td>\n",
       "      <td>ELEMENTARY_SCHOOL</td>\n",
       "      <td>Entrepreneur</td>\n",
       "      <td>1</td>\n",
       "      <td>2007.0</td>\n",
       "      <td>NaN</td>\n",
       "      <td>2007.0</td>\n",
       "      <td>...</td>\n",
       "      <td>2.117290e+08</td>\n",
       "      <td>60.0</td>\n",
       "      <td>7.216985e+07</td>\n",
       "      <td>3.546624e+08</td>\n",
       "      <td>406.0</td>\n",
       "      <td>5.366614e+06</td>\n",
       "      <td>2.020980e+07</td>\n",
       "      <td>121.0</td>\n",
       "      <td>NaN</td>\n",
       "      <td>0.0</td>\n",
       "    </tr>\n",
       "  </tbody>\n",
       "</table>\n",
       "<p>5 rows × 62 columns</p>\n",
       "</div>"
      ],
      "text/plain": [
       "   gender                      birthdate maritalstatus  numofdependence  \\\n",
       "0    Male  1985-12-15T17:00:00.000+00:00        SINGLE                0   \n",
       "1    Male  1969-12-20T17:00:00.000+00:00       MARRIED                2   \n",
       "2  Female  1976-08-17T17:00:00.000+00:00       MARRIED                2   \n",
       "3    Male  1985-01-09T17:00:00.000+00:00       MARRIED                1   \n",
       "4  Female  1979-08-16T17:00:00.000+00:00       MARRIED                1   \n",
       "\n",
       "            education          professionid  homestatus  staysinceyear  \\\n",
       "0     BACHELOR_DEGREE  Government employees           4         2010.0   \n",
       "1   ELEMENTARY_SCHOOL          Entrepreneur           1         1992.0   \n",
       "2  SENIOR_HIGH_SCHOOL          Entrepreneur           1         2008.0   \n",
       "3   ELEMENTARY_SCHOOL          Entrepreneur           1         2002.0   \n",
       "4   ELEMENTARY_SCHOOL          Entrepreneur           1         2007.0   \n",
       "\n",
       "   EmploymentSinceYear  MainBusinessSinceYear  ...  \\\n",
       "0               2006.0                    NaN  ...   \n",
       "1                  NaN                 2005.0  ...   \n",
       "2                  NaN                 2010.0  ...   \n",
       "3                  NaN                 2005.0  ...   \n",
       "4                  NaN                 2007.0  ...   \n",
       "\n",
       "  std_sale_apartment_price_10000 sale_apartment_cnt_10000  \\\n",
       "0                   2.199754e+08                     26.0   \n",
       "1                   2.387715e+08                     18.0   \n",
       "2                   2.387715e+08                     18.0   \n",
       "3                   2.387715e+08                     18.0   \n",
       "4                   2.117290e+08                     60.0   \n",
       "\n",
       "   avg_rent_house_price_10000  std_rent_house_price_10000  \\\n",
       "0                7.216985e+07                3.546624e+08   \n",
       "1                7.216985e+07                3.546624e+08   \n",
       "2                7.216985e+07                3.546624e+08   \n",
       "3                7.216985e+07                3.546624e+08   \n",
       "4                7.216985e+07                3.546624e+08   \n",
       "\n",
       "   rent_house_cnt_10000 avg_rent_apartment_price_10000  \\\n",
       "0                 406.0                   5.366614e+06   \n",
       "1                 406.0                   5.366614e+06   \n",
       "2                 406.0                   5.366614e+06   \n",
       "3                 406.0                   5.366614e+06   \n",
       "4                 406.0                   5.366614e+06   \n",
       "\n",
       "   std_rent_apartment_price_10000  rent_apartment_cnt_10000  \\\n",
       "0                    2.020980e+07                     121.0   \n",
       "1                    2.020980e+07                     121.0   \n",
       "2                    2.020980e+07                     121.0   \n",
       "3                    2.020980e+07                     121.0   \n",
       "4                    2.020980e+07                     121.0   \n",
       "\n",
       "                                previous  distance_residence_company  \n",
       "0                                    NaN                         0.0  \n",
       "1  2012-09-11 03:40:58,2850000.00,7,0.00                         0.0  \n",
       "2                                    NaN                         0.0  \n",
       "3                                    NaN                         0.0  \n",
       "4                                    NaN                         0.0  \n",
       "\n",
       "[5 rows x 62 columns]"
      ]
     },
     "execution_count": 5,
     "metadata": {},
     "output_type": "execute_result"
    }
   ],
   "source": [
    "df.head()"
   ]
  },
  {
   "cell_type": "code",
   "execution_count": 8,
   "metadata": {},
   "outputs": [
    {
     "data": {
      "text/plain": [
       "(200000, 62)"
      ]
     },
     "execution_count": 8,
     "metadata": {},
     "output_type": "execute_result"
    }
   ],
   "source": [
    "df.shape"
   ]
  },
  {
   "cell_type": "code",
   "execution_count": 10,
   "metadata": {},
   "outputs": [
    {
     "data": {
      "text/plain": [
       "(200000, 63)"
      ]
     },
     "execution_count": 10,
     "metadata": {},
     "output_type": "execute_result"
    }
   ],
   "source": [
    "# percentage of missing values in each row\n",
    "df['missing_pct'] = df.isnull().sum(axis = 1)/df.shape[1]\n",
    "# drop each row of the percentage > 25%\n",
    "missing_row_idx = df[df['missing_pct'] > 0.25].index\n",
    "df.drop(df.index[missing_row_idx], inplace = True)\n",
    "df.shape"
   ]
  },
  {
   "cell_type": "code",
   "execution_count": 11,
   "metadata": {},
   "outputs": [],
   "source": [
    "df.drop(columns = ['missing_pct'], inplace = True)"
   ]
  },
  {
   "cell_type": "code",
   "execution_count": 26,
   "metadata": {},
   "outputs": [],
   "source": [
    "# percentage of missing values in each column\n",
    "col_pct_missing = []\n",
    "for col in df.columns:\n",
    "    col_pct_missing.append(np.mean(df[col].isnull())*100)\n",
    "col_missing_df = pd.DataFrame(col_pct_missing, index = df.columns, columns = ['pct_missing'])"
   ]
  },
  {
   "cell_type": "code",
   "execution_count": 27,
   "metadata": {},
   "outputs": [
    {
     "data": {
      "text/html": [
       "<div>\n",
       "<style scoped>\n",
       "    .dataframe tbody tr th:only-of-type {\n",
       "        vertical-align: middle;\n",
       "    }\n",
       "\n",
       "    .dataframe tbody tr th {\n",
       "        vertical-align: top;\n",
       "    }\n",
       "\n",
       "    .dataframe thead th {\n",
       "        text-align: right;\n",
       "    }\n",
       "</style>\n",
       "<table border=\"1\" class=\"dataframe\">\n",
       "  <thead>\n",
       "    <tr style=\"text-align: right;\">\n",
       "      <th></th>\n",
       "      <th>pct_missing</th>\n",
       "    </tr>\n",
       "  </thead>\n",
       "  <tbody>\n",
       "    <tr>\n",
       "      <th>gender</th>\n",
       "      <td>0.0000</td>\n",
       "    </tr>\n",
       "    <tr>\n",
       "      <th>birthdate</th>\n",
       "      <td>0.0000</td>\n",
       "    </tr>\n",
       "    <tr>\n",
       "      <th>maritalstatus</th>\n",
       "      <td>0.0040</td>\n",
       "    </tr>\n",
       "    <tr>\n",
       "      <th>numofdependence</th>\n",
       "      <td>0.0000</td>\n",
       "    </tr>\n",
       "    <tr>\n",
       "      <th>education</th>\n",
       "      <td>0.0000</td>\n",
       "    </tr>\n",
       "    <tr>\n",
       "      <th>...</th>\n",
       "      <td>...</td>\n",
       "    </tr>\n",
       "    <tr>\n",
       "      <th>avg_rent_apartment_price_10000</th>\n",
       "      <td>0.0000</td>\n",
       "    </tr>\n",
       "    <tr>\n",
       "      <th>std_rent_apartment_price_10000</th>\n",
       "      <td>0.0000</td>\n",
       "    </tr>\n",
       "    <tr>\n",
       "      <th>rent_apartment_cnt_10000</th>\n",
       "      <td>0.0000</td>\n",
       "    </tr>\n",
       "    <tr>\n",
       "      <th>previous</th>\n",
       "      <td>60.5110</td>\n",
       "    </tr>\n",
       "    <tr>\n",
       "      <th>distance_residence_company</th>\n",
       "      <td>2.0905</td>\n",
       "    </tr>\n",
       "  </tbody>\n",
       "</table>\n",
       "<p>62 rows × 1 columns</p>\n",
       "</div>"
      ],
      "text/plain": [
       "                                pct_missing\n",
       "gender                               0.0000\n",
       "birthdate                            0.0000\n",
       "maritalstatus                        0.0040\n",
       "numofdependence                      0.0000\n",
       "education                            0.0000\n",
       "...                                     ...\n",
       "avg_rent_apartment_price_10000       0.0000\n",
       "std_rent_apartment_price_10000       0.0000\n",
       "rent_apartment_cnt_10000             0.0000\n",
       "previous                            60.5110\n",
       "distance_residence_company           2.0905\n",
       "\n",
       "[62 rows x 1 columns]"
      ]
     },
     "execution_count": 27,
     "metadata": {},
     "output_type": "execute_result"
    }
   ],
   "source": [
    "col_missing_df"
   ]
  },
  {
   "cell_type": "code",
   "execution_count": 28,
   "metadata": {},
   "outputs": [
    {
     "data": {
      "text/html": [
       "<div>\n",
       "<style scoped>\n",
       "    .dataframe tbody tr th:only-of-type {\n",
       "        vertical-align: middle;\n",
       "    }\n",
       "\n",
       "    .dataframe tbody tr th {\n",
       "        vertical-align: top;\n",
       "    }\n",
       "\n",
       "    .dataframe thead th {\n",
       "        text-align: right;\n",
       "    }\n",
       "</style>\n",
       "<table border=\"1\" class=\"dataframe\">\n",
       "  <thead>\n",
       "    <tr style=\"text-align: right;\">\n",
       "      <th></th>\n",
       "      <th>pct_missing</th>\n",
       "    </tr>\n",
       "  </thead>\n",
       "  <tbody>\n",
       "    <tr>\n",
       "      <th>EmploymentSinceYear</th>\n",
       "      <td>45.5700</td>\n",
       "    </tr>\n",
       "    <tr>\n",
       "      <th>MainBusinessSinceYear</th>\n",
       "      <td>52.6585</td>\n",
       "    </tr>\n",
       "    <tr>\n",
       "      <th>jobpos</th>\n",
       "      <td>42.5775</td>\n",
       "    </tr>\n",
       "    <tr>\n",
       "      <th>previous</th>\n",
       "      <td>60.5110</td>\n",
       "    </tr>\n",
       "  </tbody>\n",
       "</table>\n",
       "</div>"
      ],
      "text/plain": [
       "                       pct_missing\n",
       "EmploymentSinceYear        45.5700\n",
       "MainBusinessSinceYear      52.6585\n",
       "jobpos                     42.5775\n",
       "previous                   60.5110"
      ]
     },
     "execution_count": 28,
     "metadata": {},
     "output_type": "execute_result"
    }
   ],
   "source": [
    "# filter out columns with percentage of missing larger than 25%\n",
    "col_missing_df[col_missing_df.pct_missing > 25]"
   ]
  },
  {
   "cell_type": "markdown",
   "metadata": {},
   "source": [
    "I have considered using imputation but the percentage of missing in these columns is too large. Imputation will create bias. Therefore, I decided to not include these columns into the model, but \"previous\" will be included. Previous is the previous loan record. Will discuss later."
   ]
  },
  {
   "cell_type": "code",
   "execution_count": 38,
   "metadata": {},
   "outputs": [],
   "source": [
    "# create the target column\n",
    "# If maxoverduedays>90, we say that the borrower has defaulted on the loan.\n",
    "df['defaulted'] = df['MaxOverDueDays'] > 90"
   ]
  },
  {
   "cell_type": "code",
   "execution_count": 42,
   "metadata": {},
   "outputs": [
    {
     "data": {
      "text/plain": [
       "False    168883\n",
       "True      31117\n",
       "Name: defaulted, dtype: int64"
      ]
     },
     "execution_count": 42,
     "metadata": {},
     "output_type": "execute_result"
    }
   ],
   "source": [
    "df['defaulted'].value_counts()"
   ]
  },
  {
   "cell_type": "code",
   "execution_count": 119,
   "metadata": {},
   "outputs": [
    {
     "data": {
      "text/plain": [
       "([<matplotlib.patches.Wedge at 0x157192f16a0>,\n",
       "  <matplotlib.patches.Wedge at 0x157192f1b80>],\n",
       " [Text(-0.9711945926318911, 0.5165085316261245, 'not defaulted'),\n",
       "  Text(0.9711946168113992, -0.5165084861612244, 'defaulted')])"
      ]
     },
     "execution_count": 119,
     "metadata": {},
     "output_type": "execute_result"
    },
    {
     "data": {
      "image/png": "[encoded data removed]",
      "text/plain": [
       "<Figure size 432x288 with 1 Axes>"
      ]
     },
     "metadata": {},
     "output_type": "display_data"
    }
   ],
   "source": [
    "mylabels = ['not defaulted', 'defaulted']\n",
    "plt.pie(df['defaulted'].value_counts(), labels = mylabels)"
   ]
  },
  {
   "cell_type": "markdown",
   "metadata": {},
   "source": [
    "Balance the data using undersampling"
   ]
  },
  {
   "cell_type": "code",
   "execution_count": 281,
   "metadata": {},
   "outputs": [],
   "source": [
    "#Seperate each target class into 2 dataframes\n",
    "not_default = df[df['defaulted'] == 0]\n",
    "default = df[df['defaulted'] == 1]\n",
    "\n",
    "#Number of samples\n",
    "N = 20000\n",
    "rs = 1\n",
    "\n",
    "#Resample dataframe\n",
    "resample_default = resample(default,\n",
    "                       replace = False,\n",
    "                       n_samples = N,\n",
    "                       random_state = rs)\n",
    "\n",
    "resample_nondefault = resample(not_default,\n",
    "                       replace = False,\n",
    "                       n_samples = N,\n",
    "                       random_state = rs)\n",
    "\n",
    "resample_df = pd.concat([resample_default, resample_nondefault])"
   ]
  },
  {
   "cell_type": "markdown",
   "metadata": {},
   "source": [
    "## Finding features"
   ]
  },
  {
   "cell_type": "code",
   "execution_count": 282,
   "metadata": {},
   "outputs": [
    {
     "data": {
      "text/html": [
       "<div>\n",
       "<style scoped>\n",
       "    .dataframe tbody tr th:only-of-type {\n",
       "        vertical-align: middle;\n",
       "    }\n",
       "\n",
       "    .dataframe tbody tr th {\n",
       "        vertical-align: top;\n",
       "    }\n",
       "\n",
       "    .dataframe thead th {\n",
       "        text-align: right;\n",
       "    }\n",
       "</style>\n",
       "<table border=\"1\" class=\"dataframe\">\n",
       "  <thead>\n",
       "    <tr style=\"text-align: right;\">\n",
       "      <th></th>\n",
       "      <th>professionid</th>\n",
       "      <th>gender</th>\n",
       "      <th>maritalstatus</th>\n",
       "      <th>education</th>\n",
       "      <th>birthplace</th>\n",
       "      <th>residencezipcode</th>\n",
       "      <th>companyzipcode</th>\n",
       "      <th>legalzipcode</th>\n",
       "    </tr>\n",
       "  </thead>\n",
       "  <tbody>\n",
       "    <tr>\n",
       "      <th>36804</th>\n",
       "      <td>Private Employees</td>\n",
       "      <td>Male</td>\n",
       "      <td>SINGLE</td>\n",
       "      <td>BACHELOR_DEGREE</td>\n",
       "      <td>SELONG</td>\n",
       "      <td>83127.0</td>\n",
       "      <td>83121.0</td>\n",
       "      <td>83127.0</td>\n",
       "    </tr>\n",
       "    <tr>\n",
       "      <th>107878</th>\n",
       "      <td>Entrepreneur</td>\n",
       "      <td>Male</td>\n",
       "      <td>MARRIED</td>\n",
       "      <td>JUNIOR_HIGH_SCHOOL</td>\n",
       "      <td>BATURAJA</td>\n",
       "      <td>32114.0</td>\n",
       "      <td>32116.0</td>\n",
       "      <td>32114.0</td>\n",
       "    </tr>\n",
       "    <tr>\n",
       "      <th>29685</th>\n",
       "      <td>Entrepreneur</td>\n",
       "      <td>Male</td>\n",
       "      <td>MARRIED</td>\n",
       "      <td>SENIOR_HIGH_SCHOOL</td>\n",
       "      <td>MANDE</td>\n",
       "      <td>84119.0</td>\n",
       "      <td>84119.0</td>\n",
       "      <td>84119.0</td>\n",
       "    </tr>\n",
       "    <tr>\n",
       "      <th>93762</th>\n",
       "      <td>Entrepreneur</td>\n",
       "      <td>Female</td>\n",
       "      <td>MARRIED</td>\n",
       "      <td>SENIOR_HIGH_SCHOOL</td>\n",
       "      <td>MANTIKOLE</td>\n",
       "      <td>94361.0</td>\n",
       "      <td>94361.0</td>\n",
       "      <td>94361.0</td>\n",
       "    </tr>\n",
       "    <tr>\n",
       "      <th>142081</th>\n",
       "      <td>Entrepreneur</td>\n",
       "      <td>Female</td>\n",
       "      <td>WIDOWED</td>\n",
       "      <td>SENIOR_HIGH_SCHOOL</td>\n",
       "      <td>BANTAENG</td>\n",
       "      <td>92411.0</td>\n",
       "      <td>92415.0</td>\n",
       "      <td>92411.0</td>\n",
       "    </tr>\n",
       "  </tbody>\n",
       "</table>\n",
       "</div>"
      ],
      "text/plain": [
       "             professionid  gender maritalstatus           education  \\\n",
       "36804   Private Employees    Male        SINGLE     BACHELOR_DEGREE   \n",
       "107878       Entrepreneur    Male       MARRIED  JUNIOR_HIGH_SCHOOL   \n",
       "29685        Entrepreneur    Male       MARRIED  SENIOR_HIGH_SCHOOL   \n",
       "93762        Entrepreneur  Female       MARRIED  SENIOR_HIGH_SCHOOL   \n",
       "142081       Entrepreneur  Female       WIDOWED  SENIOR_HIGH_SCHOOL   \n",
       "\n",
       "       birthplace  residencezipcode  companyzipcode  legalzipcode  \n",
       "36804      SELONG           83127.0         83121.0       83127.0  \n",
       "107878   BATURAJA           32114.0         32116.0       32114.0  \n",
       "29685       MANDE           84119.0         84119.0       84119.0  \n",
       "93762   MANTIKOLE           94361.0         94361.0       94361.0  \n",
       "142081   BANTAENG           92411.0         92415.0       92411.0  "
      ]
     },
     "execution_count": 282,
     "metadata": {},
     "output_type": "execute_result"
    }
   ],
   "source": [
    "# categorical features \n",
    "cat = ['professionid', 'gender', 'maritalstatus', 'education', 'birthplace', \\\n",
    "       'residencezipcode', 'companyzipcode', 'legalzipcode']\n",
    "resample_df[cat].head()"
   ]
  },
  {
   "cell_type": "markdown",
   "metadata": {},
   "source": [
    "### Categorical features\n",
    "We use chi-square test to see if these categorical features are correlated with the defaulted column. We do that by bootstrapping 1000 times on 5000 rows sampled from the dataframe and perform the hypothesis. Our null hypothesis is that each categorical feature is not statistically significant to the defaulted column. Alternative hypothesis is the opposite. When the p value is less than our default critical value 0.05, we reject the null hypothesis and conclude that the categorical feature is correlated with the defaulted column."
   ]
  },
  {
   "cell_type": "code",
   "execution_count": 285,
   "metadata": {},
   "outputs": [
    {
     "name": "stdout",
     "output_type": "stream",
     "text": [
      "Wall time: 0 ns\n"
     ]
    }
   ],
   "source": [
    "%time\n",
    "from collections import defaultdict\n",
    "pvalues = defaultdict(list)\n",
    "for i in range(1000):\n",
    "    sample = resample_df.sample(5000)\n",
    "    for j in cat:\n",
    "        data_crosstab = pd.crosstab(sample[j], sample['defaulted'], margins = False)\n",
    "        pvalue = chi2_contingency(data_crosstab)[1]\n",
    "        pvalues[j].append(pvalue) "
   ]
  },
  {
   "cell_type": "code",
   "execution_count": 286,
   "metadata": {},
   "outputs": [],
   "source": [
    "pvalue_mean = []\n",
    "pvalue_median = []\n",
    "for k in pvalues.keys():\n",
    "    pvalue_mean.append(np.mean(pvalues[k]))\n",
    "    pvalue_median.append(statistics.median(pvalues[k]))"
   ]
  },
  {
   "cell_type": "code",
   "execution_count": 287,
   "metadata": {},
   "outputs": [],
   "source": [
    "pval_df = pd.DataFrame(data={'mean':pvalue_mean, 'median':pvalue_median}, index = pvalues.keys())"
   ]
  },
  {
   "cell_type": "code",
   "execution_count": 130,
   "metadata": {},
   "outputs": [],
   "source": [
    "def color_pvalue(value):\n",
    "    \"\"\"\n",
    "    Colors elements in a dateframe\n",
    "    red if statistically significant\n",
    "    \"\"\"\n",
    "\n",
    "    if value < 0.05:\n",
    "        color = 'red'\n",
    "    else: color = 'black'\n",
    "\n",
    "    return 'color: %s' % color"
   ]
  },
  {
   "cell_type": "code",
   "execution_count": 288,
   "metadata": {},
   "outputs": [
    {
     "data": {
      "text/html": [
       "<style  type=\"text/css\" >\n",
       "#T_06559237_b3c3_11eb_af48_9067b1999b5drow0_col0,#T_06559237_b3c3_11eb_af48_9067b1999b5drow0_col1,#T_06559237_b3c3_11eb_af48_9067b1999b5drow2_col0,#T_06559237_b3c3_11eb_af48_9067b1999b5drow2_col1,#T_06559237_b3c3_11eb_af48_9067b1999b5drow3_col0,#T_06559237_b3c3_11eb_af48_9067b1999b5drow3_col1,#T_06559237_b3c3_11eb_af48_9067b1999b5drow4_col0,#T_06559237_b3c3_11eb_af48_9067b1999b5drow4_col1,#T_06559237_b3c3_11eb_af48_9067b1999b5drow5_col0,#T_06559237_b3c3_11eb_af48_9067b1999b5drow5_col1,#T_06559237_b3c3_11eb_af48_9067b1999b5drow6_col0,#T_06559237_b3c3_11eb_af48_9067b1999b5drow6_col1,#T_06559237_b3c3_11eb_af48_9067b1999b5drow7_col0,#T_06559237_b3c3_11eb_af48_9067b1999b5drow7_col1{\n",
       "            color:  red;\n",
       "        }#T_06559237_b3c3_11eb_af48_9067b1999b5drow1_col0,#T_06559237_b3c3_11eb_af48_9067b1999b5drow1_col1{\n",
       "            color:  black;\n",
       "        }</style><table id=\"T_06559237_b3c3_11eb_af48_9067b1999b5d\" ><thead>    <tr>        <th class=\"blank level0\" ></th>        <th class=\"col_heading level0 col0\" >mean</th>        <th class=\"col_heading level0 col1\" >median</th>    </tr></thead><tbody>\n",
       "                <tr>\n",
       "                        <th id=\"T_06559237_b3c3_11eb_af48_9067b1999b5dlevel0_row0\" class=\"row_heading level0 row0\" >professionid</th>\n",
       "                        <td id=\"T_06559237_b3c3_11eb_af48_9067b1999b5drow0_col0\" class=\"data row0 col0\" >0.000000</td>\n",
       "                        <td id=\"T_06559237_b3c3_11eb_af48_9067b1999b5drow0_col1\" class=\"data row0 col1\" >0.000000</td>\n",
       "            </tr>\n",
       "            <tr>\n",
       "                        <th id=\"T_06559237_b3c3_11eb_af48_9067b1999b5dlevel0_row1\" class=\"row_heading level0 row1\" >gender</th>\n",
       "                        <td id=\"T_06559237_b3c3_11eb_af48_9067b1999b5drow1_col0\" class=\"data row1 col0\" >0.516915</td>\n",
       "                        <td id=\"T_06559237_b3c3_11eb_af48_9067b1999b5drow1_col1\" class=\"data row1 col1\" >0.522658</td>\n",
       "            </tr>\n",
       "            <tr>\n",
       "                        <th id=\"T_06559237_b3c3_11eb_af48_9067b1999b5dlevel0_row2\" class=\"row_heading level0 row2\" >maritalstatus</th>\n",
       "                        <td id=\"T_06559237_b3c3_11eb_af48_9067b1999b5drow2_col0\" class=\"data row2 col0\" >0.040492</td>\n",
       "                        <td id=\"T_06559237_b3c3_11eb_af48_9067b1999b5drow2_col1\" class=\"data row2 col1\" >0.005291</td>\n",
       "            </tr>\n",
       "            <tr>\n",
       "                        <th id=\"T_06559237_b3c3_11eb_af48_9067b1999b5dlevel0_row3\" class=\"row_heading level0 row3\" >education</th>\n",
       "                        <td id=\"T_06559237_b3c3_11eb_af48_9067b1999b5drow3_col0\" class=\"data row3 col0\" >0.000000</td>\n",
       "                        <td id=\"T_06559237_b3c3_11eb_af48_9067b1999b5drow3_col1\" class=\"data row3 col1\" >0.000000</td>\n",
       "            </tr>\n",
       "            <tr>\n",
       "                        <th id=\"T_06559237_b3c3_11eb_af48_9067b1999b5dlevel0_row4\" class=\"row_heading level0 row4\" >birthplace</th>\n",
       "                        <td id=\"T_06559237_b3c3_11eb_af48_9067b1999b5drow4_col0\" class=\"data row4 col0\" >0.012901</td>\n",
       "                        <td id=\"T_06559237_b3c3_11eb_af48_9067b1999b5drow4_col1\" class=\"data row4 col1\" >0.006302</td>\n",
       "            </tr>\n",
       "            <tr>\n",
       "                        <th id=\"T_06559237_b3c3_11eb_af48_9067b1999b5dlevel0_row5\" class=\"row_heading level0 row5\" >residencezipcode</th>\n",
       "                        <td id=\"T_06559237_b3c3_11eb_af48_9067b1999b5drow5_col0\" class=\"data row5 col0\" >0.004063</td>\n",
       "                        <td id=\"T_06559237_b3c3_11eb_af48_9067b1999b5drow5_col1\" class=\"data row5 col1\" >0.000910</td>\n",
       "            </tr>\n",
       "            <tr>\n",
       "                        <th id=\"T_06559237_b3c3_11eb_af48_9067b1999b5dlevel0_row6\" class=\"row_heading level0 row6\" >companyzipcode</th>\n",
       "                        <td id=\"T_06559237_b3c3_11eb_af48_9067b1999b5drow6_col0\" class=\"data row6 col0\" >0.004453</td>\n",
       "                        <td id=\"T_06559237_b3c3_11eb_af48_9067b1999b5drow6_col1\" class=\"data row6 col1\" >0.001105</td>\n",
       "            </tr>\n",
       "            <tr>\n",
       "                        <th id=\"T_06559237_b3c3_11eb_af48_9067b1999b5dlevel0_row7\" class=\"row_heading level0 row7\" >legalzipcode</th>\n",
       "                        <td id=\"T_06559237_b3c3_11eb_af48_9067b1999b5drow7_col0\" class=\"data row7 col0\" >0.004763</td>\n",
       "                        <td id=\"T_06559237_b3c3_11eb_af48_9067b1999b5drow7_col1\" class=\"data row7 col1\" >0.001253</td>\n",
       "            </tr>\n",
       "    </tbody></table>"
      ],
      "text/plain": [
       "<pandas.io.formats.style.Styler at 0x15718480e50>"
      ]
     },
     "execution_count": 288,
     "metadata": {},
     "output_type": "execute_result"
    }
   ],
   "source": [
    "pval_df.style.applymap(color_pvalue)"
   ]
  },
  {
   "cell_type": "markdown",
   "metadata": {},
   "source": [
    "From the table, we see that education, professoinid, residencezipcode, companyzipcode, and legalzipcode are statistically significant to the defaulted column because its mean and median of the p values are extremely small. Marital status is somewhat significant to the defaulted as its median less than 0.05."
   ]
  },
  {
   "cell_type": "code",
   "execution_count": 289,
   "metadata": {},
   "outputs": [
    {
     "data": {
      "image/png": "[encoded data removed]",
      "text/plain": [
       "<Figure size 360x2160 with 8 Axes>"
      ]
     },
     "metadata": {
      "needs_background": "light"
     },
     "output_type": "display_data"
    }
   ],
   "source": [
    "plt.style.use('seaborn-dark-palette')\n",
    "plt.figure(figsize=(5, 30))\n",
    "for i in range(len(cat)):\n",
    "    plt.subplot(len(cat),1, i+1)\n",
    "    plt.hist(pvalues[cat[i]])\n",
    "    plt.title(cat[i])\n",
    "plt.savefig(\"pvalue_\" + cat[i] + \".png\", bbox_inches=\"tight\" )"
   ]
  },
  {
   "cell_type": "markdown",
   "metadata": {},
   "source": [
    "jobtypeid not in my consideration because it is similar to professionid."
   ]
  },
  {
   "cell_type": "code",
   "execution_count": 364,
   "metadata": {},
   "outputs": [],
   "source": [
    "cat_final = ['professionid', 'birthplace', 'residencezipcode', 'companyzipcode', 'legalzipcode', 'education', 'maritalstatus']"
   ]
  },
  {
   "cell_type": "markdown",
   "metadata": {},
   "source": [
    "Default rate in each profession?"
   ]
  },
  {
   "cell_type": "code",
   "execution_count": 293,
   "metadata": {},
   "outputs": [
    {
     "data": {
      "text/html": [
       "<div>\n",
       "<style scoped>\n",
       "    .dataframe tbody tr th:only-of-type {\n",
       "        vertical-align: middle;\n",
       "    }\n",
       "\n",
       "    .dataframe tbody tr th {\n",
       "        vertical-align: top;\n",
       "    }\n",
       "\n",
       "    .dataframe thead th {\n",
       "        text-align: right;\n",
       "    }\n",
       "</style>\n",
       "<table border=\"1\" class=\"dataframe\">\n",
       "  <thead>\n",
       "    <tr style=\"text-align: right;\">\n",
       "      <th>defaulted</th>\n",
       "      <th>False</th>\n",
       "      <th>True</th>\n",
       "      <th>rate</th>\n",
       "    </tr>\n",
       "    <tr>\n",
       "      <th>professionid</th>\n",
       "      <th></th>\n",
       "      <th></th>\n",
       "      <th></th>\n",
       "    </tr>\n",
       "  </thead>\n",
       "  <tbody>\n",
       "    <tr>\n",
       "      <th>Government employees</th>\n",
       "      <td>2346</td>\n",
       "      <td>1269</td>\n",
       "      <td>0.351037</td>\n",
       "    </tr>\n",
       "    <tr>\n",
       "      <th>Professional</th>\n",
       "      <td>80</td>\n",
       "      <td>71</td>\n",
       "      <td>0.470199</td>\n",
       "    </tr>\n",
       "    <tr>\n",
       "      <th>Private Employees</th>\n",
       "      <td>8152</td>\n",
       "      <td>7352</td>\n",
       "      <td>0.474200</td>\n",
       "    </tr>\n",
       "    <tr>\n",
       "      <th>Army</th>\n",
       "      <td>39</td>\n",
       "      <td>42</td>\n",
       "      <td>0.518519</td>\n",
       "    </tr>\n",
       "    <tr>\n",
       "      <th>Entrepreneur</th>\n",
       "      <td>9383</td>\n",
       "      <td>11266</td>\n",
       "      <td>0.545595</td>\n",
       "    </tr>\n",
       "  </tbody>\n",
       "</table>\n",
       "</div>"
      ],
      "text/plain": [
       "defaulted             False   True      rate\n",
       "professionid                                \n",
       "Government employees   2346   1269  0.351037\n",
       "Professional             80     71  0.470199\n",
       "Private Employees      8152   7352  0.474200\n",
       "Army                     39     42  0.518519\n",
       "Entrepreneur           9383  11266  0.545595"
      ]
     },
     "execution_count": 293,
     "metadata": {},
     "output_type": "execute_result"
    }
   ],
   "source": [
    "profession_default = pd.crosstab(resample_df.professionid, resample_df.defaulted)\n",
    "profession_default['rate'] = profession_default[True]/(profession_default[True]+profession_default[False])\n",
    "profession_default.sort_values(by = 'rate')"
   ]
  },
  {
   "cell_type": "markdown",
   "metadata": {},
   "source": [
    "Interestingly, government employees default the least, followed by professionals. Entrepreneur has higher rate to default, which makes sense as doing business involves more risk."
   ]
  },
  {
   "cell_type": "code",
   "execution_count": 294,
   "metadata": {},
   "outputs": [
    {
     "data": {
      "text/html": [
       "<div>\n",
       "<style scoped>\n",
       "    .dataframe tbody tr th:only-of-type {\n",
       "        vertical-align: middle;\n",
       "    }\n",
       "\n",
       "    .dataframe tbody tr th {\n",
       "        vertical-align: top;\n",
       "    }\n",
       "\n",
       "    .dataframe thead th {\n",
       "        text-align: right;\n",
       "    }\n",
       "</style>\n",
       "<table border=\"1\" class=\"dataframe\">\n",
       "  <thead>\n",
       "    <tr style=\"text-align: right;\">\n",
       "      <th>defaulted</th>\n",
       "      <th>False</th>\n",
       "      <th>True</th>\n",
       "      <th>rate</th>\n",
       "    </tr>\n",
       "    <tr>\n",
       "      <th>education</th>\n",
       "      <th></th>\n",
       "      <th></th>\n",
       "      <th></th>\n",
       "    </tr>\n",
       "  </thead>\n",
       "  <tbody>\n",
       "    <tr>\n",
       "      <th>MASTER_DEGREE</th>\n",
       "      <td>169</td>\n",
       "      <td>63</td>\n",
       "      <td>0.271552</td>\n",
       "    </tr>\n",
       "    <tr>\n",
       "      <th>BACHELOR_DEGREE</th>\n",
       "      <td>4166</td>\n",
       "      <td>2762</td>\n",
       "      <td>0.398672</td>\n",
       "    </tr>\n",
       "    <tr>\n",
       "      <th>DOCTOR_DEGREE</th>\n",
       "      <td>6</td>\n",
       "      <td>5</td>\n",
       "      <td>0.454545</td>\n",
       "    </tr>\n",
       "    <tr>\n",
       "      <th>TECHNICAL_COLLEGE</th>\n",
       "      <td>1496</td>\n",
       "      <td>1327</td>\n",
       "      <td>0.470067</td>\n",
       "    </tr>\n",
       "    <tr>\n",
       "      <th>SENIOR_HIGH_SCHOOL</th>\n",
       "      <td>11434</td>\n",
       "      <td>12185</td>\n",
       "      <td>0.515898</td>\n",
       "    </tr>\n",
       "    <tr>\n",
       "      <th>NOT_ATTENDING_SCHOOL</th>\n",
       "      <td>6</td>\n",
       "      <td>7</td>\n",
       "      <td>0.538462</td>\n",
       "    </tr>\n",
       "    <tr>\n",
       "      <th>ELEMENTARY_SCHOOL</th>\n",
       "      <td>952</td>\n",
       "      <td>1261</td>\n",
       "      <td>0.569815</td>\n",
       "    </tr>\n",
       "    <tr>\n",
       "      <th>JUNIOR_HIGH_SCHOOL</th>\n",
       "      <td>1771</td>\n",
       "      <td>2387</td>\n",
       "      <td>0.574074</td>\n",
       "    </tr>\n",
       "    <tr>\n",
       "      <th>OTHERS</th>\n",
       "      <td>0</td>\n",
       "      <td>3</td>\n",
       "      <td>1.000000</td>\n",
       "    </tr>\n",
       "  </tbody>\n",
       "</table>\n",
       "</div>"
      ],
      "text/plain": [
       "defaulted             False   True      rate\n",
       "education                                   \n",
       "MASTER_DEGREE           169     63  0.271552\n",
       "BACHELOR_DEGREE        4166   2762  0.398672\n",
       "DOCTOR_DEGREE             6      5  0.454545\n",
       "TECHNICAL_COLLEGE      1496   1327  0.470067\n",
       "SENIOR_HIGH_SCHOOL    11434  12185  0.515898\n",
       "NOT_ATTENDING_SCHOOL      6      7  0.538462\n",
       "ELEMENTARY_SCHOOL       952   1261  0.569815\n",
       "JUNIOR_HIGH_SCHOOL     1771   2387  0.574074\n",
       "OTHERS                    0      3  1.000000"
      ]
     },
     "execution_count": 294,
     "metadata": {},
     "output_type": "execute_result"
    }
   ],
   "source": [
    "education_default = pd.crosstab(resample_df.education, resample_df.defaulted)\n",
    "education_default['rate'] = education_default[True]/(education_default[True]+education_default[False])\n",
    "education_default.sort_values(by = 'rate')"
   ]
  },
  {
   "cell_type": "markdown",
   "metadata": {},
   "source": [
    "The higher the education degree, the lower the rate of default. Also makes sense."
   ]
  },
  {
   "cell_type": "code",
   "execution_count": 366,
   "metadata": {},
   "outputs": [
    {
     "data": {
      "text/html": [
       "<div>\n",
       "<style scoped>\n",
       "    .dataframe tbody tr th:only-of-type {\n",
       "        vertical-align: middle;\n",
       "    }\n",
       "\n",
       "    .dataframe tbody tr th {\n",
       "        vertical-align: top;\n",
       "    }\n",
       "\n",
       "    .dataframe thead th {\n",
       "        text-align: right;\n",
       "    }\n",
       "</style>\n",
       "<table border=\"1\" class=\"dataframe\">\n",
       "  <thead>\n",
       "    <tr style=\"text-align: right;\">\n",
       "      <th>defaulted</th>\n",
       "      <th>False</th>\n",
       "      <th>True</th>\n",
       "      <th>rate</th>\n",
       "    </tr>\n",
       "    <tr>\n",
       "      <th>maritalstatus</th>\n",
       "      <th></th>\n",
       "      <th></th>\n",
       "      <th></th>\n",
       "    </tr>\n",
       "  </thead>\n",
       "  <tbody>\n",
       "    <tr>\n",
       "      <th>MARRIED</th>\n",
       "      <td>16828</td>\n",
       "      <td>16214</td>\n",
       "      <td>0.490709</td>\n",
       "    </tr>\n",
       "    <tr>\n",
       "      <th>SINGLE</th>\n",
       "      <td>2714</td>\n",
       "      <td>3088</td>\n",
       "      <td>0.532230</td>\n",
       "    </tr>\n",
       "    <tr>\n",
       "      <th>DIVORCE</th>\n",
       "      <td>323</td>\n",
       "      <td>479</td>\n",
       "      <td>0.597257</td>\n",
       "    </tr>\n",
       "    <tr>\n",
       "      <th>WIDOWED</th>\n",
       "      <td>135</td>\n",
       "      <td>217</td>\n",
       "      <td>0.616477</td>\n",
       "    </tr>\n",
       "  </tbody>\n",
       "</table>\n",
       "</div>"
      ],
      "text/plain": [
       "defaulted      False   True      rate\n",
       "maritalstatus                        \n",
       "MARRIED        16828  16214  0.490709\n",
       "SINGLE          2714   3088  0.532230\n",
       "DIVORCE          323    479  0.597257\n",
       "WIDOWED          135    217  0.616477"
      ]
     },
     "execution_count": 366,
     "metadata": {},
     "output_type": "execute_result"
    }
   ],
   "source": [
    "mar_default = pd.crosstab(resample_df.maritalstatus, resample_df.defaulted)\n",
    "mar_default['rate'] = mar_default[True]/(mar_default[True]+mar_default[False])\n",
    "mar_default.sort_values(by = 'rate')"
   ]
  },
  {
   "cell_type": "markdown",
   "metadata": {},
   "source": [
    "### Quantitative features"
   ]
  },
  {
   "cell_type": "code",
   "execution_count": 165,
   "metadata": {},
   "outputs": [],
   "source": [
    "other = ['newapplicationdate', 'staysinceyear']"
   ]
  },
  {
   "cell_type": "code",
   "execution_count": 375,
   "metadata": {},
   "outputs": [],
   "source": [
    "# feature engineering \n",
    "# previous: 1 means the person has record on loaning\n",
    "resample_df['previous_converted']= resample_df.previous.apply(lambda x: 0 if pd.isnull(x) else 1)"
   ]
  },
  {
   "cell_type": "code",
   "execution_count": 376,
   "metadata": {},
   "outputs": [],
   "source": [
    "quant = ['numofdependence', \\\n",
    "         'monthlyfixedincome', 'monthlyvariableincome', 'spouseincome', \\\n",
    "         'avg_income', 'std_income', 'avg_income_cnt', 'avg_income_nation', 'std_income_nation',\n",
    "       'avg_income_nation_cnt', 'avg_income_area', 'std_icnome_area',\n",
    "       'avg_income_area_cnt', 'avg_sale_house_price_5000',\n",
    "       'std_sale_house_price_5000', 'sale_house_cnt_5000',\n",
    "       'avg_sale_apartment_price_5000', 'std_sale_apartment_price_5000',\n",
    "       'sale_apartment_cnt_5000', 'avg_rent_house_price_5000',\n",
    "       'std_rent_house_price_5000', 'rent_house_cnt_5000',\n",
    "       'avg_rent_apartment_price_5000', 'std_rent_apartment_price_5000',\n",
    "       'rent_apartment_cnt_5000', 'avg_sale_house_price_10000',\n",
    "       'std_sale_house_price_10000', 'sale_house_cnt_10000',\n",
    "       'avg_sale_apartment_price_10000', 'std_sale_apartment_price_10000',\n",
    "       'sale_apartment_cnt_10000', 'avg_rent_house_price_10000',\n",
    "       'std_rent_house_price_10000', 'rent_house_cnt_10000',\n",
    "       'avg_rent_apartment_price_10000', 'std_rent_apartment_price_10000',\n",
    "       'rent_apartment_cnt_10000', 'previous_converted']"
   ]
  },
  {
   "cell_type": "code",
   "execution_count": 377,
   "metadata": {
    "scrolled": false
   },
   "outputs": [
    {
     "data": {
      "text/html": [
       "<div>\n",
       "<style scoped>\n",
       "    .dataframe tbody tr th:only-of-type {\n",
       "        vertical-align: middle;\n",
       "    }\n",
       "\n",
       "    .dataframe tbody tr th {\n",
       "        vertical-align: top;\n",
       "    }\n",
       "\n",
       "    .dataframe thead th {\n",
       "        text-align: right;\n",
       "    }\n",
       "</style>\n",
       "<table border=\"1\" class=\"dataframe\">\n",
       "  <thead>\n",
       "    <tr style=\"text-align: right;\">\n",
       "      <th></th>\n",
       "      <th>count</th>\n",
       "      <th>mean</th>\n",
       "      <th>std</th>\n",
       "      <th>min</th>\n",
       "      <th>25%</th>\n",
       "      <th>50%</th>\n",
       "      <th>75%</th>\n",
       "      <th>max</th>\n",
       "    </tr>\n",
       "  </thead>\n",
       "  <tbody>\n",
       "    <tr>\n",
       "      <th>numofdependence</th>\n",
       "      <td>40000.0</td>\n",
       "      <td>1.563250e+00</td>\n",
       "      <td>1.271629e+00</td>\n",
       "      <td>0.000000e+00</td>\n",
       "      <td>1.000000e+00</td>\n",
       "      <td>2.000000e+00</td>\n",
       "      <td>2.000000e+00</td>\n",
       "      <td>2.000000e+01</td>\n",
       "    </tr>\n",
       "    <tr>\n",
       "      <th>monthlyfixedincome</th>\n",
       "      <td>40000.0</td>\n",
       "      <td>3.355249e+06</td>\n",
       "      <td>4.123721e+06</td>\n",
       "      <td>0.000000e+00</td>\n",
       "      <td>2.000000e+06</td>\n",
       "      <td>2.900000e+06</td>\n",
       "      <td>4.000000e+06</td>\n",
       "      <td>5.424148e+08</td>\n",
       "    </tr>\n",
       "    <tr>\n",
       "      <th>monthlyvariableincome</th>\n",
       "      <td>40000.0</td>\n",
       "      <td>1.700900e+05</td>\n",
       "      <td>1.014933e+06</td>\n",
       "      <td>0.000000e+00</td>\n",
       "      <td>0.000000e+00</td>\n",
       "      <td>0.000000e+00</td>\n",
       "      <td>0.000000e+00</td>\n",
       "      <td>8.000000e+07</td>\n",
       "    </tr>\n",
       "    <tr>\n",
       "      <th>spouseincome</th>\n",
       "      <td>39997.0</td>\n",
       "      <td>3.590978e+04</td>\n",
       "      <td>5.162187e+05</td>\n",
       "      <td>0.000000e+00</td>\n",
       "      <td>0.000000e+00</td>\n",
       "      <td>0.000000e+00</td>\n",
       "      <td>0.000000e+00</td>\n",
       "      <td>6.050000e+07</td>\n",
       "    </tr>\n",
       "    <tr>\n",
       "      <th>avg_income</th>\n",
       "      <td>39033.0</td>\n",
       "      <td>3.990832e+08</td>\n",
       "      <td>1.170629e+10</td>\n",
       "      <td>1.050000e+06</td>\n",
       "      <td>2.697935e+06</td>\n",
       "      <td>3.071558e+06</td>\n",
       "      <td>3.887109e+06</td>\n",
       "      <td>6.289339e+11</td>\n",
       "    </tr>\n",
       "    <tr>\n",
       "      <th>std_income</th>\n",
       "      <td>39033.0</td>\n",
       "      <td>2.273894e+10</td>\n",
       "      <td>6.281143e+11</td>\n",
       "      <td>0.000000e+00</td>\n",
       "      <td>1.366319e+06</td>\n",
       "      <td>1.899533e+06</td>\n",
       "      <td>3.334564e+06</td>\n",
       "      <td>2.507849e+13</td>\n",
       "    </tr>\n",
       "    <tr>\n",
       "      <th>avg_income_cnt</th>\n",
       "      <td>39033.0</td>\n",
       "      <td>3.385427e+03</td>\n",
       "      <td>4.819477e+03</td>\n",
       "      <td>1.000000e+00</td>\n",
       "      <td>4.820000e+02</td>\n",
       "      <td>1.666000e+03</td>\n",
       "      <td>4.003000e+03</td>\n",
       "      <td>3.036400e+04</td>\n",
       "    </tr>\n",
       "    <tr>\n",
       "      <th>avg_income_nation</th>\n",
       "      <td>39989.0</td>\n",
       "      <td>3.811316e+08</td>\n",
       "      <td>4.560916e+08</td>\n",
       "      <td>2.710989e+06</td>\n",
       "      <td>4.792272e+06</td>\n",
       "      <td>4.792272e+06</td>\n",
       "      <td>9.336151e+08</td>\n",
       "      <td>9.336151e+08</td>\n",
       "    </tr>\n",
       "    <tr>\n",
       "      <th>std_income_nation</th>\n",
       "      <td>39989.0</td>\n",
       "      <td>3.910413e+11</td>\n",
       "      <td>4.732870e+11</td>\n",
       "      <td>1.165207e+06</td>\n",
       "      <td>3.890322e+08</td>\n",
       "      <td>3.890322e+08</td>\n",
       "      <td>9.643547e+11</td>\n",
       "      <td>9.643547e+11</td>\n",
       "    </tr>\n",
       "    <tr>\n",
       "      <th>avg_income_nation_cnt</th>\n",
       "      <td>39989.0</td>\n",
       "      <td>1.172069e+06</td>\n",
       "      <td>3.664409e+05</td>\n",
       "      <td>6.400000e+01</td>\n",
       "      <td>1.075437e+06</td>\n",
       "      <td>1.418874e+06</td>\n",
       "      <td>1.418874e+06</td>\n",
       "      <td>1.418874e+06</td>\n",
       "    </tr>\n",
       "    <tr>\n",
       "      <th>avg_income_area</th>\n",
       "      <td>39044.0</td>\n",
       "      <td>2.922427e+08</td>\n",
       "      <td>6.456642e+09</td>\n",
       "      <td>1.523732e+06</td>\n",
       "      <td>2.787281e+06</td>\n",
       "      <td>3.116129e+06</td>\n",
       "      <td>4.098524e+06</td>\n",
       "      <td>2.961249e+11</td>\n",
       "    </tr>\n",
       "    <tr>\n",
       "      <th>std_icnome_area</th>\n",
       "      <td>39044.0</td>\n",
       "      <td>2.533206e+10</td>\n",
       "      <td>5.362307e+11</td>\n",
       "      <td>0.000000e+00</td>\n",
       "      <td>1.573583e+06</td>\n",
       "      <td>2.306142e+06</td>\n",
       "      <td>4.750870e+06</td>\n",
       "      <td>1.720816e+13</td>\n",
       "    </tr>\n",
       "    <tr>\n",
       "      <th>avg_income_area_cnt</th>\n",
       "      <td>39044.0</td>\n",
       "      <td>7.250248e+03</td>\n",
       "      <td>9.417455e+03</td>\n",
       "      <td>1.000000e+00</td>\n",
       "      <td>1.231000e+03</td>\n",
       "      <td>3.769000e+03</td>\n",
       "      <td>8.785000e+03</td>\n",
       "      <td>5.208200e+04</td>\n",
       "    </tr>\n",
       "    <tr>\n",
       "      <th>avg_sale_house_price_5000</th>\n",
       "      <td>40000.0</td>\n",
       "      <td>1.032266e+09</td>\n",
       "      <td>8.419073e+08</td>\n",
       "      <td>1.053500e+08</td>\n",
       "      <td>5.045641e+08</td>\n",
       "      <td>8.045000e+08</td>\n",
       "      <td>1.295000e+09</td>\n",
       "      <td>1.072906e+10</td>\n",
       "    </tr>\n",
       "    <tr>\n",
       "      <th>std_sale_house_price_5000</th>\n",
       "      <td>40000.0</td>\n",
       "      <td>1.328507e+09</td>\n",
       "      <td>1.166911e+09</td>\n",
       "      <td>0.000000e+00</td>\n",
       "      <td>5.066906e+08</td>\n",
       "      <td>9.903834e+08</td>\n",
       "      <td>1.760382e+09</td>\n",
       "      <td>8.348235e+09</td>\n",
       "    </tr>\n",
       "    <tr>\n",
       "      <th>sale_house_cnt_5000</th>\n",
       "      <td>40000.0</td>\n",
       "      <td>1.012438e+03</td>\n",
       "      <td>2.732964e+03</td>\n",
       "      <td>1.000000e+01</td>\n",
       "      <td>1.500000e+01</td>\n",
       "      <td>6.200000e+01</td>\n",
       "      <td>3.860000e+02</td>\n",
       "      <td>2.749300e+04</td>\n",
       "    </tr>\n",
       "    <tr>\n",
       "      <th>avg_sale_apartment_price_5000</th>\n",
       "      <td>40000.0</td>\n",
       "      <td>9.020084e+08</td>\n",
       "      <td>9.207499e+08</td>\n",
       "      <td>1.162652e+08</td>\n",
       "      <td>3.316614e+08</td>\n",
       "      <td>5.721607e+08</td>\n",
       "      <td>1.095600e+09</td>\n",
       "      <td>9.672857e+09</td>\n",
       "    </tr>\n",
       "    <tr>\n",
       "      <th>std_sale_apartment_price_5000</th>\n",
       "      <td>40000.0</td>\n",
       "      <td>8.631463e+08</td>\n",
       "      <td>1.262851e+09</td>\n",
       "      <td>3.015113e+06</td>\n",
       "      <td>1.278616e+08</td>\n",
       "      <td>2.568821e+08</td>\n",
       "      <td>8.143310e+08</td>\n",
       "      <td>5.760426e+09</td>\n",
       "    </tr>\n",
       "    <tr>\n",
       "      <th>sale_apartment_cnt_5000</th>\n",
       "      <td>40000.0</td>\n",
       "      <td>4.757549e+02</td>\n",
       "      <td>1.512989e+03</td>\n",
       "      <td>1.000000e+01</td>\n",
       "      <td>1.500000e+01</td>\n",
       "      <td>2.000000e+01</td>\n",
       "      <td>7.700000e+01</td>\n",
       "      <td>9.669000e+03</td>\n",
       "    </tr>\n",
       "    <tr>\n",
       "      <th>avg_rent_house_price_5000</th>\n",
       "      <td>40000.0</td>\n",
       "      <td>5.692130e+07</td>\n",
       "      <td>7.423690e+07</td>\n",
       "      <td>1.043028e+06</td>\n",
       "      <td>3.150882e+07</td>\n",
       "      <td>4.255247e+07</td>\n",
       "      <td>5.565769e+07</td>\n",
       "      <td>1.022900e+09</td>\n",
       "    </tr>\n",
       "    <tr>\n",
       "      <th>std_rent_house_price_5000</th>\n",
       "      <td>40000.0</td>\n",
       "      <td>9.507343e+07</td>\n",
       "      <td>2.633143e+08</td>\n",
       "      <td>9.597035e+05</td>\n",
       "      <td>2.376168e+07</td>\n",
       "      <td>3.936101e+07</td>\n",
       "      <td>6.312898e+07</td>\n",
       "      <td>3.154259e+09</td>\n",
       "    </tr>\n",
       "    <tr>\n",
       "      <th>rent_house_cnt_5000</th>\n",
       "      <td>40000.0</td>\n",
       "      <td>1.356557e+02</td>\n",
       "      <td>2.552744e+02</td>\n",
       "      <td>1.000000e+01</td>\n",
       "      <td>1.300000e+01</td>\n",
       "      <td>2.400000e+01</td>\n",
       "      <td>1.440000e+02</td>\n",
       "      <td>3.246000e+03</td>\n",
       "    </tr>\n",
       "    <tr>\n",
       "      <th>avg_rent_apartment_price_5000</th>\n",
       "      <td>40000.0</td>\n",
       "      <td>4.375676e+07</td>\n",
       "      <td>4.820315e+07</td>\n",
       "      <td>6.794118e+05</td>\n",
       "      <td>7.113261e+06</td>\n",
       "      <td>2.173500e+07</td>\n",
       "      <td>6.027891e+07</td>\n",
       "      <td>1.406752e+08</td>\n",
       "    </tr>\n",
       "    <tr>\n",
       "      <th>std_rent_apartment_price_5000</th>\n",
       "      <td>40000.0</td>\n",
       "      <td>7.643626e+07</td>\n",
       "      <td>1.255537e+08</td>\n",
       "      <td>1.075337e+06</td>\n",
       "      <td>1.187245e+07</td>\n",
       "      <td>3.505463e+07</td>\n",
       "      <td>7.809279e+07</td>\n",
       "      <td>9.143135e+08</td>\n",
       "    </tr>\n",
       "    <tr>\n",
       "      <th>rent_apartment_cnt_5000</th>\n",
       "      <td>40000.0</td>\n",
       "      <td>7.629357e+02</td>\n",
       "      <td>1.869049e+03</td>\n",
       "      <td>1.000000e+01</td>\n",
       "      <td>1.600000e+01</td>\n",
       "      <td>2.300000e+01</td>\n",
       "      <td>1.490000e+02</td>\n",
       "      <td>9.525000e+03</td>\n",
       "    </tr>\n",
       "    <tr>\n",
       "      <th>avg_sale_house_price_10000</th>\n",
       "      <td>40000.0</td>\n",
       "      <td>1.054089e+09</td>\n",
       "      <td>7.265403e+08</td>\n",
       "      <td>1.376765e+08</td>\n",
       "      <td>6.479231e+08</td>\n",
       "      <td>9.122439e+08</td>\n",
       "      <td>1.281364e+09</td>\n",
       "      <td>1.072906e+10</td>\n",
       "    </tr>\n",
       "    <tr>\n",
       "      <th>std_sale_house_price_10000</th>\n",
       "      <td>40000.0</td>\n",
       "      <td>1.461086e+09</td>\n",
       "      <td>1.014930e+09</td>\n",
       "      <td>0.000000e+00</td>\n",
       "      <td>7.085744e+08</td>\n",
       "      <td>1.203384e+09</td>\n",
       "      <td>1.939964e+09</td>\n",
       "      <td>8.348235e+09</td>\n",
       "    </tr>\n",
       "    <tr>\n",
       "      <th>sale_house_cnt_10000</th>\n",
       "      <td>40000.0</td>\n",
       "      <td>2.160118e+03</td>\n",
       "      <td>5.665048e+03</td>\n",
       "      <td>1.000000e+01</td>\n",
       "      <td>1.900000e+01</td>\n",
       "      <td>1.240000e+02</td>\n",
       "      <td>9.650000e+02</td>\n",
       "      <td>2.937100e+04</td>\n",
       "    </tr>\n",
       "    <tr>\n",
       "      <th>avg_sale_apartment_price_10000</th>\n",
       "      <td>40000.0</td>\n",
       "      <td>8.738670e+08</td>\n",
       "      <td>7.095205e+08</td>\n",
       "      <td>1.175259e+08</td>\n",
       "      <td>3.608897e+08</td>\n",
       "      <td>5.799066e+08</td>\n",
       "      <td>1.095600e+09</td>\n",
       "      <td>3.885216e+09</td>\n",
       "    </tr>\n",
       "    <tr>\n",
       "      <th>std_sale_apartment_price_10000</th>\n",
       "      <td>40000.0</td>\n",
       "      <td>9.403316e+08</td>\n",
       "      <td>1.212326e+09</td>\n",
       "      <td>3.015113e+06</td>\n",
       "      <td>2.089749e+08</td>\n",
       "      <td>3.630372e+08</td>\n",
       "      <td>9.333457e+08</td>\n",
       "      <td>5.188155e+09</td>\n",
       "    </tr>\n",
       "    <tr>\n",
       "      <th>sale_apartment_cnt_10000</th>\n",
       "      <td>40000.0</td>\n",
       "      <td>6.063536e+02</td>\n",
       "      <td>1.704591e+03</td>\n",
       "      <td>1.000000e+01</td>\n",
       "      <td>1.800000e+01</td>\n",
       "      <td>3.700000e+01</td>\n",
       "      <td>3.270000e+02</td>\n",
       "      <td>9.707000e+03</td>\n",
       "    </tr>\n",
       "    <tr>\n",
       "      <th>avg_rent_house_price_10000</th>\n",
       "      <td>40000.0</td>\n",
       "      <td>5.569656e+07</td>\n",
       "      <td>7.020836e+07</td>\n",
       "      <td>1.220451e+06</td>\n",
       "      <td>2.609091e+07</td>\n",
       "      <td>4.591038e+07</td>\n",
       "      <td>5.766140e+07</td>\n",
       "      <td>1.022600e+09</td>\n",
       "    </tr>\n",
       "    <tr>\n",
       "      <th>std_rent_house_price_10000</th>\n",
       "      <td>40000.0</td>\n",
       "      <td>1.144466e+08</td>\n",
       "      <td>2.667434e+08</td>\n",
       "      <td>1.713615e+06</td>\n",
       "      <td>2.226335e+07</td>\n",
       "      <td>4.207982e+07</td>\n",
       "      <td>8.359920e+07</td>\n",
       "      <td>3.154718e+09</td>\n",
       "    </tr>\n",
       "    <tr>\n",
       "      <th>rent_house_cnt_10000</th>\n",
       "      <td>40000.0</td>\n",
       "      <td>2.259369e+02</td>\n",
       "      <td>4.035404e+02</td>\n",
       "      <td>1.000000e+01</td>\n",
       "      <td>1.300000e+01</td>\n",
       "      <td>2.200000e+01</td>\n",
       "      <td>2.100000e+02</td>\n",
       "      <td>3.757000e+03</td>\n",
       "    </tr>\n",
       "    <tr>\n",
       "      <th>avg_rent_apartment_price_10000</th>\n",
       "      <td>40000.0</td>\n",
       "      <td>3.666327e+07</td>\n",
       "      <td>4.354543e+07</td>\n",
       "      <td>1.681316e+06</td>\n",
       "      <td>6.330000e+06</td>\n",
       "      <td>1.465254e+07</td>\n",
       "      <td>4.530179e+07</td>\n",
       "      <td>1.455818e+08</td>\n",
       "    </tr>\n",
       "    <tr>\n",
       "      <th>std_rent_apartment_price_10000</th>\n",
       "      <td>40000.0</td>\n",
       "      <td>5.756716e+07</td>\n",
       "      <td>9.221621e+07</td>\n",
       "      <td>6.171170e+05</td>\n",
       "      <td>9.640179e+06</td>\n",
       "      <td>2.020980e+07</td>\n",
       "      <td>7.891074e+07</td>\n",
       "      <td>7.089416e+08</td>\n",
       "    </tr>\n",
       "    <tr>\n",
       "      <th>rent_apartment_cnt_10000</th>\n",
       "      <td>40000.0</td>\n",
       "      <td>6.338317e+02</td>\n",
       "      <td>1.674313e+03</td>\n",
       "      <td>1.000000e+01</td>\n",
       "      <td>1.600000e+01</td>\n",
       "      <td>3.600000e+01</td>\n",
       "      <td>1.640000e+02</td>\n",
       "      <td>9.558000e+03</td>\n",
       "    </tr>\n",
       "    <tr>\n",
       "      <th>previous_converted</th>\n",
       "      <td>40000.0</td>\n",
       "      <td>3.523750e-01</td>\n",
       "      <td>4.777160e-01</td>\n",
       "      <td>0.000000e+00</td>\n",
       "      <td>0.000000e+00</td>\n",
       "      <td>0.000000e+00</td>\n",
       "      <td>1.000000e+00</td>\n",
       "      <td>1.000000e+00</td>\n",
       "    </tr>\n",
       "  </tbody>\n",
       "</table>\n",
       "</div>"
      ],
      "text/plain": [
       "                                  count          mean           std  \\\n",
       "numofdependence                 40000.0  1.563250e+00  1.271629e+00   \n",
       "monthlyfixedincome              40000.0  3.355249e+06  4.123721e+06   \n",
       "monthlyvariableincome           40000.0  1.700900e+05  1.014933e+06   \n",
       "spouseincome                    39997.0  3.590978e+04  5.162187e+05   \n",
       "avg_income                      39033.0  3.990832e+08  1.170629e+10   \n",
       "std_income                      39033.0  2.273894e+10  6.281143e+11   \n",
       "avg_income_cnt                  39033.0  3.385427e+03  4.819477e+03   \n",
       "avg_income_nation               39989.0  3.811316e+08  4.560916e+08   \n",
       "std_income_nation               39989.0  3.910413e+11  4.732870e+11   \n",
       "avg_income_nation_cnt           39989.0  1.172069e+06  3.664409e+05   \n",
       "avg_income_area                 39044.0  2.922427e+08  6.456642e+09   \n",
       "std_icnome_area                 39044.0  2.533206e+10  5.362307e+11   \n",
       "avg_income_area_cnt             39044.0  7.250248e+03  9.417455e+03   \n",
       "avg_sale_house_price_5000       40000.0  1.032266e+09  8.419073e+08   \n",
       "std_sale_house_price_5000       40000.0  1.328507e+09  1.166911e+09   \n",
       "sale_house_cnt_5000             40000.0  1.012438e+03  2.732964e+03   \n",
       "avg_sale_apartment_price_5000   40000.0  9.020084e+08  9.207499e+08   \n",
       "std_sale_apartment_price_5000   40000.0  8.631463e+08  1.262851e+09   \n",
       "sale_apartment_cnt_5000         40000.0  4.757549e+02  1.512989e+03   \n",
       "avg_rent_house_price_5000       40000.0  5.692130e+07  7.423690e+07   \n",
       "std_rent_house_price_5000       40000.0  9.507343e+07  2.633143e+08   \n",
       "rent_house_cnt_5000             40000.0  1.356557e+02  2.552744e+02   \n",
       "avg_rent_apartment_price_5000   40000.0  4.375676e+07  4.820315e+07   \n",
       "std_rent_apartment_price_5000   40000.0  7.643626e+07  1.255537e+08   \n",
       "rent_apartment_cnt_5000         40000.0  7.629357e+02  1.869049e+03   \n",
       "avg_sale_house_price_10000      40000.0  1.054089e+09  7.265403e+08   \n",
       "std_sale_house_price_10000      40000.0  1.461086e+09  1.014930e+09   \n",
       "sale_house_cnt_10000            40000.0  2.160118e+03  5.665048e+03   \n",
       "avg_sale_apartment_price_10000  40000.0  8.738670e+08  7.095205e+08   \n",
       "std_sale_apartment_price_10000  40000.0  9.403316e+08  1.212326e+09   \n",
       "sale_apartment_cnt_10000        40000.0  6.063536e+02  1.704591e+03   \n",
       "avg_rent_house_price_10000      40000.0  5.569656e+07  7.020836e+07   \n",
       "std_rent_house_price_10000      40000.0  1.144466e+08  2.667434e+08   \n",
       "rent_house_cnt_10000            40000.0  2.259369e+02  4.035404e+02   \n",
       "avg_rent_apartment_price_10000  40000.0  3.666327e+07  4.354543e+07   \n",
       "std_rent_apartment_price_10000  40000.0  5.756716e+07  9.221621e+07   \n",
       "rent_apartment_cnt_10000        40000.0  6.338317e+02  1.674313e+03   \n",
       "previous_converted              40000.0  3.523750e-01  4.777160e-01   \n",
       "\n",
       "                                         min           25%           50%  \\\n",
       "numofdependence                 0.000000e+00  1.000000e+00  2.000000e+00   \n",
       "monthlyfixedincome              0.000000e+00  2.000000e+06  2.900000e+06   \n",
       "monthlyvariableincome           0.000000e+00  0.000000e+00  0.000000e+00   \n",
       "spouseincome                    0.000000e+00  0.000000e+00  0.000000e+00   \n",
       "avg_income                      1.050000e+06  2.697935e+06  3.071558e+06   \n",
       "std_income                      0.000000e+00  1.366319e+06  1.899533e+06   \n",
       "avg_income_cnt                  1.000000e+00  4.820000e+02  1.666000e+03   \n",
       "avg_income_nation               2.710989e+06  4.792272e+06  4.792272e+06   \n",
       "std_income_nation               1.165207e+06  3.890322e+08  3.890322e+08   \n",
       "avg_income_nation_cnt           6.400000e+01  1.075437e+06  1.418874e+06   \n",
       "avg_income_area                 1.523732e+06  2.787281e+06  3.116129e+06   \n",
       "std_icnome_area                 0.000000e+00  1.573583e+06  2.306142e+06   \n",
       "avg_income_area_cnt             1.000000e+00  1.231000e+03  3.769000e+03   \n",
       "avg_sale_house_price_5000       1.053500e+08  5.045641e+08  8.045000e+08   \n",
       "std_sale_house_price_5000       0.000000e+00  5.066906e+08  9.903834e+08   \n",
       "sale_house_cnt_5000             1.000000e+01  1.500000e+01  6.200000e+01   \n",
       "avg_sale_apartment_price_5000   1.162652e+08  3.316614e+08  5.721607e+08   \n",
       "std_sale_apartment_price_5000   3.015113e+06  1.278616e+08  2.568821e+08   \n",
       "sale_apartment_cnt_5000         1.000000e+01  1.500000e+01  2.000000e+01   \n",
       "avg_rent_house_price_5000       1.043028e+06  3.150882e+07  4.255247e+07   \n",
       "std_rent_house_price_5000       9.597035e+05  2.376168e+07  3.936101e+07   \n",
       "rent_house_cnt_5000             1.000000e+01  1.300000e+01  2.400000e+01   \n",
       "avg_rent_apartment_price_5000   6.794118e+05  7.113261e+06  2.173500e+07   \n",
       "std_rent_apartment_price_5000   1.075337e+06  1.187245e+07  3.505463e+07   \n",
       "rent_apartment_cnt_5000         1.000000e+01  1.600000e+01  2.300000e+01   \n",
       "avg_sale_house_price_10000      1.376765e+08  6.479231e+08  9.122439e+08   \n",
       "std_sale_house_price_10000      0.000000e+00  7.085744e+08  1.203384e+09   \n",
       "sale_house_cnt_10000            1.000000e+01  1.900000e+01  1.240000e+02   \n",
       "avg_sale_apartment_price_10000  1.175259e+08  3.608897e+08  5.799066e+08   \n",
       "std_sale_apartment_price_10000  3.015113e+06  2.089749e+08  3.630372e+08   \n",
       "sale_apartment_cnt_10000        1.000000e+01  1.800000e+01  3.700000e+01   \n",
       "avg_rent_house_price_10000      1.220451e+06  2.609091e+07  4.591038e+07   \n",
       "std_rent_house_price_10000      1.713615e+06  2.226335e+07  4.207982e+07   \n",
       "rent_house_cnt_10000            1.000000e+01  1.300000e+01  2.200000e+01   \n",
       "avg_rent_apartment_price_10000  1.681316e+06  6.330000e+06  1.465254e+07   \n",
       "std_rent_apartment_price_10000  6.171170e+05  9.640179e+06  2.020980e+07   \n",
       "rent_apartment_cnt_10000        1.000000e+01  1.600000e+01  3.600000e+01   \n",
       "previous_converted              0.000000e+00  0.000000e+00  0.000000e+00   \n",
       "\n",
       "                                         75%           max  \n",
       "numofdependence                 2.000000e+00  2.000000e+01  \n",
       "monthlyfixedincome              4.000000e+06  5.424148e+08  \n",
       "monthlyvariableincome           0.000000e+00  8.000000e+07  \n",
       "spouseincome                    0.000000e+00  6.050000e+07  \n",
       "avg_income                      3.887109e+06  6.289339e+11  \n",
       "std_income                      3.334564e+06  2.507849e+13  \n",
       "avg_income_cnt                  4.003000e+03  3.036400e+04  \n",
       "avg_income_nation               9.336151e+08  9.336151e+08  \n",
       "std_income_nation               9.643547e+11  9.643547e+11  \n",
       "avg_income_nation_cnt           1.418874e+06  1.418874e+06  \n",
       "avg_income_area                 4.098524e+06  2.961249e+11  \n",
       "std_icnome_area                 4.750870e+06  1.720816e+13  \n",
       "avg_income_area_cnt             8.785000e+03  5.208200e+04  \n",
       "avg_sale_house_price_5000       1.295000e+09  1.072906e+10  \n",
       "std_sale_house_price_5000       1.760382e+09  8.348235e+09  \n",
       "sale_house_cnt_5000             3.860000e+02  2.749300e+04  \n",
       "avg_sale_apartment_price_5000   1.095600e+09  9.672857e+09  \n",
       "std_sale_apartment_price_5000   8.143310e+08  5.760426e+09  \n",
       "sale_apartment_cnt_5000         7.700000e+01  9.669000e+03  \n",
       "avg_rent_house_price_5000       5.565769e+07  1.022900e+09  \n",
       "std_rent_house_price_5000       6.312898e+07  3.154259e+09  \n",
       "rent_house_cnt_5000             1.440000e+02  3.246000e+03  \n",
       "avg_rent_apartment_price_5000   6.027891e+07  1.406752e+08  \n",
       "std_rent_apartment_price_5000   7.809279e+07  9.143135e+08  \n",
       "rent_apartment_cnt_5000         1.490000e+02  9.525000e+03  \n",
       "avg_sale_house_price_10000      1.281364e+09  1.072906e+10  \n",
       "std_sale_house_price_10000      1.939964e+09  8.348235e+09  \n",
       "sale_house_cnt_10000            9.650000e+02  2.937100e+04  \n",
       "avg_sale_apartment_price_10000  1.095600e+09  3.885216e+09  \n",
       "std_sale_apartment_price_10000  9.333457e+08  5.188155e+09  \n",
       "sale_apartment_cnt_10000        3.270000e+02  9.707000e+03  \n",
       "avg_rent_house_price_10000      5.766140e+07  1.022600e+09  \n",
       "std_rent_house_price_10000      8.359920e+07  3.154718e+09  \n",
       "rent_house_cnt_10000            2.100000e+02  3.757000e+03  \n",
       "avg_rent_apartment_price_10000  4.530179e+07  1.455818e+08  \n",
       "std_rent_apartment_price_10000  7.891074e+07  7.089416e+08  \n",
       "rent_apartment_cnt_10000        1.640000e+02  9.558000e+03  \n",
       "previous_converted              1.000000e+00  1.000000e+00  "
      ]
     },
     "execution_count": 377,
     "metadata": {},
     "output_type": "execute_result"
    }
   ],
   "source": [
    "resample_df[quant].describe().transpose()"
   ]
  },
  {
   "cell_type": "code",
   "execution_count": 378,
   "metadata": {},
   "outputs": [
    {
     "data": {
      "text/plain": [
       "{'numofdependence': -0.015197197976965279,\n",
       " 'monthlyfixedincome': -0.050628610934531866,\n",
       " 'monthlyvariableincome': 0.035173716323227855,\n",
       " 'spouseincome': -0.010781338066413076,\n",
       " 'avg_income': 0.0022668311907224114,\n",
       " 'std_income': 0.002195994353719987,\n",
       " 'avg_income_cnt': -0.066794381694159,\n",
       " 'avg_income_nation': -0.07209105148258943,\n",
       " 'std_income_nation': -0.07212681679772981,\n",
       " 'avg_income_nation_cnt': 0.08451891030508607,\n",
       " 'avg_income_area': 0.0044102411818818365,\n",
       " 'std_icnome_area': 0.0048394689672424844,\n",
       " 'avg_income_area_cnt': -0.08154051962885328,\n",
       " 'avg_sale_house_price_5000': -0.019823535521733666,\n",
       " 'std_sale_house_price_5000': -0.0021743990511476833,\n",
       " 'sale_house_cnt_5000': -0.007109678091827824,\n",
       " 'avg_sale_apartment_price_5000': -0.008596682051242026,\n",
       " 'std_sale_apartment_price_5000': -0.03373139110109519,\n",
       " 'sale_apartment_cnt_5000': 0.01682791707278333,\n",
       " 'avg_rent_house_price_5000': 0.034227005965730466,\n",
       " 'std_rent_house_price_5000': 0.04718933684242794,\n",
       " 'rent_house_cnt_5000': -0.008486833701668172,\n",
       " 'avg_rent_apartment_price_5000': 0.0002703751726960792,\n",
       " 'std_rent_apartment_price_5000': -0.03339108503702352,\n",
       " 'rent_apartment_cnt_5000': -0.028354802369271886,\n",
       " 'avg_sale_house_price_10000': -0.022888213760862263,\n",
       " 'std_sale_house_price_10000': -0.0028400605016413918,\n",
       " 'sale_house_cnt_10000': -0.0045540889695761914,\n",
       " 'avg_sale_apartment_price_10000': -0.016190391291939797,\n",
       " 'std_sale_apartment_price_10000': -0.034079772692887804,\n",
       " 'sale_apartment_cnt_10000': 0.005669688288415485,\n",
       " 'avg_rent_house_price_10000': 0.021487929147404324,\n",
       " 'std_rent_house_price_10000': 0.03211002705815612,\n",
       " 'rent_house_cnt_10000': 0.0047965377984755565,\n",
       " 'avg_rent_apartment_price_10000': -0.036500701517637915,\n",
       " 'std_rent_apartment_price_10000': -0.02623384738326201,\n",
       " 'rent_apartment_cnt_10000': -0.019947454393889015,\n",
       " 'previous_converted': -0.15982647067940997}"
      ]
     },
     "execution_count": 378,
     "metadata": {},
     "output_type": "execute_result"
    }
   ],
   "source": [
    "# linear correlation\n",
    "pcorr = dict()\n",
    "for i in quant:\n",
    "    pcorr[i] = scipy.stats.pearsonr(resample_df[i].fillna(resample_df[i].mean()), resample_df['MaxOverDueDays'])[0]\n",
    "pcorr"
   ]
  },
  {
   "cell_type": "markdown",
   "metadata": {},
   "source": [
    "Other than \"previous_converted\" that demonstrates a strong negative linear correlation, linear correlation between the quantitative features and maxoverduedays seems trivial."
   ]
  },
  {
   "cell_type": "code",
   "execution_count": 299,
   "metadata": {},
   "outputs": [
    {
     "data": {
      "text/plain": [
       "(0.7263898026559368, 0.0)"
      ]
     },
     "execution_count": 299,
     "metadata": {},
     "output_type": "execute_result"
    }
   ],
   "source": [
    "scipy.stats.pearsonr(resample_df.MaxOverDueDays, resample_df.defaulted)"
   ]
  },
  {
   "cell_type": "markdown",
   "metadata": {},
   "source": [
    "72% large correlation for sure, because defaulted derives from MaxOverDueDays"
   ]
  },
  {
   "cell_type": "markdown",
   "metadata": {},
   "source": [
    "# Feature Engineering"
   ]
  },
  {
   "cell_type": "code",
   "execution_count": 221,
   "metadata": {},
   "outputs": [
    {
     "data": {
      "text/plain": [
       "['professionid',\n",
       " 'residencezipcode',\n",
       " 'companyzipcode',\n",
       " 'legalzipcode',\n",
       " 'education']"
      ]
     },
     "execution_count": 221,
     "metadata": {},
     "output_type": "execute_result"
    }
   ],
   "source": [
    "cat_final"
   ]
  },
  {
   "cell_type": "code",
   "execution_count": 417,
   "metadata": {},
   "outputs": [
    {
     "name": "stderr",
     "output_type": "stream",
     "text": [
      "<ipython-input-417-e0a84d4cf259>:2: SettingWithCopyWarning: \n",
      "A value is trying to be set on a copy of a slice from a DataFrame.\n",
      "Try using .loc[row_indexer,col_indexer] = value instead\n",
      "\n",
      "See the caveats in the documentation: https://pandas.pydata.org/pandas-docs/stable/user_guide/indexing.html#returning-a-view-versus-a-copy\n",
      "  final_df['index'] = resample_df.index\n"
     ]
    }
   ],
   "source": [
    "final_df = resample_df[cat_final]\n",
    "final_df['index'] = resample_df.index"
   ]
  },
  {
   "cell_type": "code",
   "execution_count": 418,
   "metadata": {},
   "outputs": [
    {
     "name": "stderr",
     "output_type": "stream",
     "text": [
      "<ipython-input-418-15bcae1d9645>:3: SettingWithCopyWarning: \n",
      "A value is trying to be set on a copy of a slice from a DataFrame.\n",
      "Try using .loc[row_indexer,col_indexer] = value instead\n",
      "\n",
      "See the caveats in the documentation: https://pandas.pydata.org/pandas-docs/stable/user_guide/indexing.html#returning-a-view-versus-a-copy\n",
      "  final_df['professionid'] = le.fit_transform(resample_df.professionid)\n",
      "<ipython-input-418-15bcae1d9645>:4: SettingWithCopyWarning: \n",
      "A value is trying to be set on a copy of a slice from a DataFrame.\n",
      "Try using .loc[row_indexer,col_indexer] = value instead\n",
      "\n",
      "See the caveats in the documentation: https://pandas.pydata.org/pandas-docs/stable/user_guide/indexing.html#returning-a-view-versus-a-copy\n",
      "  final_df['education'] = le.fit_transform(resample_df.education)\n"
     ]
    }
   ],
   "source": [
    "# label encoder on ordinal features\n",
    "le = preprocessing.LabelEncoder()\n",
    "final_df['professionid'] = le.fit_transform(resample_df.professionid)\n",
    "final_df['education'] = le.fit_transform(resample_df.education)"
   ]
  },
  {
   "cell_type": "code",
   "execution_count": 383,
   "metadata": {},
   "outputs": [
    {
     "data": {
      "text/plain": [
       "['birthplace',\n",
       " 'legalzipcode',\n",
       " 'maritalstatus',\n",
       " 'companyzipcode',\n",
       " 'residencezipcode']"
      ]
     },
     "execution_count": 383,
     "metadata": {},
     "output_type": "execute_result"
    }
   ],
   "source": [
    "non_ordinal = set(cat_final)^set(['professionid', 'education'])\n",
    "list(non_ordinal)"
   ]
  },
  {
   "cell_type": "code",
   "execution_count": 419,
   "metadata": {},
   "outputs": [
    {
     "name": "stdout",
     "output_type": "stream",
     "text": [
      "Wall time: 12.5 s\n"
     ]
    }
   ],
   "source": [
    "%%time\n",
    "# Hashing Encoding for large scale categorical data\n",
    "HE = ce.HashingEncoder(cols = non_ordinal, return_df=True, max_sample = 15000)\n",
    "# encode the categorical variables\n",
    "data = HE.fit_transform(final_df)"
   ]
  },
  {
   "cell_type": "code",
   "execution_count": 420,
   "metadata": {},
   "outputs": [
    {
     "data": {
      "text/plain": [
       "(40000, 11)"
      ]
     },
     "execution_count": 420,
     "metadata": {},
     "output_type": "execute_result"
    }
   ],
   "source": [
    "data.shape"
   ]
  },
  {
   "cell_type": "code",
   "execution_count": 451,
   "metadata": {},
   "outputs": [],
   "source": [
    "#categorical features fillna with mode\n",
    "data = data.apply(lambda x: x.fillna(x.mode()), axis=0)\n",
    "#quantitative features fillna with mean\n",
    "quant_data = resample_df[quant].apply(lambda x: x.fillna(x.mean()), axis=0)"
   ]
  },
  {
   "cell_type": "code",
   "execution_count": 638,
   "metadata": {},
   "outputs": [],
   "source": [
    "X = quant_data.reset_index().merge(data, on = 'index').drop('index', axis = 1)\n",
    "y = resample_df['defaulted']"
   ]
  },
  {
   "cell_type": "code",
   "execution_count": 639,
   "metadata": {},
   "outputs": [
    {
     "data": {
      "text/plain": [
       "((40000, 48), (40000,))"
      ]
     },
     "execution_count": 639,
     "metadata": {},
     "output_type": "execute_result"
    }
   ],
   "source": [
    "X.shape, y.shape"
   ]
  },
  {
   "cell_type": "code",
   "execution_count": 656,
   "metadata": {},
   "outputs": [
    {
     "data": {
      "text/html": [
       "<div>\n",
       "<style scoped>\n",
       "    .dataframe tbody tr th:only-of-type {\n",
       "        vertical-align: middle;\n",
       "    }\n",
       "\n",
       "    .dataframe tbody tr th {\n",
       "        vertical-align: top;\n",
       "    }\n",
       "\n",
       "    .dataframe thead th {\n",
       "        text-align: right;\n",
       "    }\n",
       "</style>\n",
       "<table border=\"1\" class=\"dataframe\">\n",
       "  <thead>\n",
       "    <tr style=\"text-align: right;\">\n",
       "      <th></th>\n",
       "      <th>numofdependence</th>\n",
       "      <th>monthlyfixedincome</th>\n",
       "      <th>monthlyvariableincome</th>\n",
       "      <th>spouseincome</th>\n",
       "      <th>avg_income</th>\n",
       "      <th>std_income</th>\n",
       "      <th>avg_income_cnt</th>\n",
       "      <th>avg_income_nation</th>\n",
       "      <th>std_income_nation</th>\n",
       "      <th>avg_income_nation_cnt</th>\n",
       "      <th>...</th>\n",
       "      <th>col_0</th>\n",
       "      <th>col_1</th>\n",
       "      <th>col_2</th>\n",
       "      <th>col_3</th>\n",
       "      <th>col_4</th>\n",
       "      <th>col_5</th>\n",
       "      <th>col_6</th>\n",
       "      <th>col_7</th>\n",
       "      <th>professionid</th>\n",
       "      <th>education</th>\n",
       "    </tr>\n",
       "  </thead>\n",
       "  <tbody>\n",
       "    <tr>\n",
       "      <th>0</th>\n",
       "      <td>0</td>\n",
       "      <td>1760000.0</td>\n",
       "      <td>0.0</td>\n",
       "      <td>0.0</td>\n",
       "      <td>2.456146e+06</td>\n",
       "      <td>9.010644e+06</td>\n",
       "      <td>13082.0</td>\n",
       "      <td>9.336151e+08</td>\n",
       "      <td>9.643547e+11</td>\n",
       "      <td>1075437.0</td>\n",
       "      <td>...</td>\n",
       "      <td>1</td>\n",
       "      <td>1</td>\n",
       "      <td>0</td>\n",
       "      <td>0</td>\n",
       "      <td>3</td>\n",
       "      <td>0</td>\n",
       "      <td>0</td>\n",
       "      <td>0</td>\n",
       "      <td>3</td>\n",
       "      <td>0</td>\n",
       "    </tr>\n",
       "    <tr>\n",
       "      <th>1</th>\n",
       "      <td>1</td>\n",
       "      <td>3200000.0</td>\n",
       "      <td>0.0</td>\n",
       "      <td>0.0</td>\n",
       "      <td>3.197767e+06</td>\n",
       "      <td>1.643649e+06</td>\n",
       "      <td>1188.0</td>\n",
       "      <td>4.792272e+06</td>\n",
       "      <td>3.890322e+08</td>\n",
       "      <td>1418874.0</td>\n",
       "      <td>...</td>\n",
       "      <td>1</td>\n",
       "      <td>1</td>\n",
       "      <td>0</td>\n",
       "      <td>0</td>\n",
       "      <td>1</td>\n",
       "      <td>0</td>\n",
       "      <td>0</td>\n",
       "      <td>2</td>\n",
       "      <td>1</td>\n",
       "      <td>3</td>\n",
       "    </tr>\n",
       "    <tr>\n",
       "      <th>2</th>\n",
       "      <td>1</td>\n",
       "      <td>3500000.0</td>\n",
       "      <td>0.0</td>\n",
       "      <td>0.0</td>\n",
       "      <td>3.598656e+06</td>\n",
       "      <td>2.093555e+06</td>\n",
       "      <td>3000.0</td>\n",
       "      <td>4.792272e+06</td>\n",
       "      <td>3.890322e+08</td>\n",
       "      <td>1418874.0</td>\n",
       "      <td>...</td>\n",
       "      <td>3</td>\n",
       "      <td>0</td>\n",
       "      <td>0</td>\n",
       "      <td>1</td>\n",
       "      <td>1</td>\n",
       "      <td>0</td>\n",
       "      <td>0</td>\n",
       "      <td>0</td>\n",
       "      <td>1</td>\n",
       "      <td>7</td>\n",
       "    </tr>\n",
       "    <tr>\n",
       "      <th>3</th>\n",
       "      <td>3</td>\n",
       "      <td>0.0</td>\n",
       "      <td>950000.0</td>\n",
       "      <td>0.0</td>\n",
       "      <td>2.634084e+06</td>\n",
       "      <td>1.816447e+06</td>\n",
       "      <td>814.0</td>\n",
       "      <td>4.792272e+06</td>\n",
       "      <td>3.890322e+08</td>\n",
       "      <td>1418874.0</td>\n",
       "      <td>...</td>\n",
       "      <td>0</td>\n",
       "      <td>0</td>\n",
       "      <td>0</td>\n",
       "      <td>3</td>\n",
       "      <td>2</td>\n",
       "      <td>0</td>\n",
       "      <td>0</td>\n",
       "      <td>0</td>\n",
       "      <td>1</td>\n",
       "      <td>7</td>\n",
       "    </tr>\n",
       "    <tr>\n",
       "      <th>4</th>\n",
       "      <td>3</td>\n",
       "      <td>1200000.0</td>\n",
       "      <td>0.0</td>\n",
       "      <td>0.0</td>\n",
       "      <td>2.222745e+06</td>\n",
       "      <td>1.217200e+06</td>\n",
       "      <td>294.0</td>\n",
       "      <td>4.792272e+06</td>\n",
       "      <td>3.890322e+08</td>\n",
       "      <td>1418874.0</td>\n",
       "      <td>...</td>\n",
       "      <td>0</td>\n",
       "      <td>2</td>\n",
       "      <td>1</td>\n",
       "      <td>0</td>\n",
       "      <td>1</td>\n",
       "      <td>1</td>\n",
       "      <td>0</td>\n",
       "      <td>0</td>\n",
       "      <td>1</td>\n",
       "      <td>7</td>\n",
       "    </tr>\n",
       "    <tr>\n",
       "      <th>...</th>\n",
       "      <td>...</td>\n",
       "      <td>...</td>\n",
       "      <td>...</td>\n",
       "      <td>...</td>\n",
       "      <td>...</td>\n",
       "      <td>...</td>\n",
       "      <td>...</td>\n",
       "      <td>...</td>\n",
       "      <td>...</td>\n",
       "      <td>...</td>\n",
       "      <td>...</td>\n",
       "      <td>...</td>\n",
       "      <td>...</td>\n",
       "      <td>...</td>\n",
       "      <td>...</td>\n",
       "      <td>...</td>\n",
       "      <td>...</td>\n",
       "      <td>...</td>\n",
       "      <td>...</td>\n",
       "      <td>...</td>\n",
       "      <td>...</td>\n",
       "    </tr>\n",
       "    <tr>\n",
       "      <th>39995</th>\n",
       "      <td>1</td>\n",
       "      <td>1900000.0</td>\n",
       "      <td>0.0</td>\n",
       "      <td>0.0</td>\n",
       "      <td>2.494668e+06</td>\n",
       "      <td>8.730452e+05</td>\n",
       "      <td>343.0</td>\n",
       "      <td>3.039899e+06</td>\n",
       "      <td>3.545020e+07</td>\n",
       "      <td>18680.0</td>\n",
       "      <td>...</td>\n",
       "      <td>0</td>\n",
       "      <td>1</td>\n",
       "      <td>1</td>\n",
       "      <td>0</td>\n",
       "      <td>1</td>\n",
       "      <td>2</td>\n",
       "      <td>0</td>\n",
       "      <td>0</td>\n",
       "      <td>3</td>\n",
       "      <td>7</td>\n",
       "    </tr>\n",
       "    <tr>\n",
       "      <th>39996</th>\n",
       "      <td>1</td>\n",
       "      <td>3000000.0</td>\n",
       "      <td>3500000.0</td>\n",
       "      <td>0.0</td>\n",
       "      <td>3.752965e+06</td>\n",
       "      <td>1.940995e+06</td>\n",
       "      <td>55.0</td>\n",
       "      <td>3.595605e+06</td>\n",
       "      <td>2.733836e+06</td>\n",
       "      <td>25981.0</td>\n",
       "      <td>...</td>\n",
       "      <td>0</td>\n",
       "      <td>0</td>\n",
       "      <td>0</td>\n",
       "      <td>1</td>\n",
       "      <td>1</td>\n",
       "      <td>3</td>\n",
       "      <td>0</td>\n",
       "      <td>0</td>\n",
       "      <td>3</td>\n",
       "      <td>7</td>\n",
       "    </tr>\n",
       "    <tr>\n",
       "      <th>39997</th>\n",
       "      <td>1</td>\n",
       "      <td>5000000.0</td>\n",
       "      <td>0.0</td>\n",
       "      <td>0.0</td>\n",
       "      <td>8.114166e+07</td>\n",
       "      <td>2.487357e+09</td>\n",
       "      <td>1069.0</td>\n",
       "      <td>4.792272e+06</td>\n",
       "      <td>3.890322e+08</td>\n",
       "      <td>1418874.0</td>\n",
       "      <td>...</td>\n",
       "      <td>0</td>\n",
       "      <td>1</td>\n",
       "      <td>0</td>\n",
       "      <td>3</td>\n",
       "      <td>1</td>\n",
       "      <td>0</td>\n",
       "      <td>0</td>\n",
       "      <td>0</td>\n",
       "      <td>1</td>\n",
       "      <td>7</td>\n",
       "    </tr>\n",
       "    <tr>\n",
       "      <th>39998</th>\n",
       "      <td>3</td>\n",
       "      <td>2350574.0</td>\n",
       "      <td>0.0</td>\n",
       "      <td>0.0</td>\n",
       "      <td>3.169430e+06</td>\n",
       "      <td>1.942562e+06</td>\n",
       "      <td>1368.0</td>\n",
       "      <td>9.336151e+08</td>\n",
       "      <td>9.643547e+11</td>\n",
       "      <td>1075437.0</td>\n",
       "      <td>...</td>\n",
       "      <td>0</td>\n",
       "      <td>0</td>\n",
       "      <td>0</td>\n",
       "      <td>0</td>\n",
       "      <td>4</td>\n",
       "      <td>1</td>\n",
       "      <td>0</td>\n",
       "      <td>0</td>\n",
       "      <td>2</td>\n",
       "      <td>0</td>\n",
       "    </tr>\n",
       "    <tr>\n",
       "      <th>39999</th>\n",
       "      <td>1</td>\n",
       "      <td>1500000.0</td>\n",
       "      <td>0.0</td>\n",
       "      <td>0.0</td>\n",
       "      <td>3.035762e+06</td>\n",
       "      <td>2.067764e+06</td>\n",
       "      <td>151.0</td>\n",
       "      <td>4.792272e+06</td>\n",
       "      <td>3.890322e+08</td>\n",
       "      <td>1418874.0</td>\n",
       "      <td>...</td>\n",
       "      <td>1</td>\n",
       "      <td>0</td>\n",
       "      <td>0</td>\n",
       "      <td>0</td>\n",
       "      <td>1</td>\n",
       "      <td>3</td>\n",
       "      <td>0</td>\n",
       "      <td>0</td>\n",
       "      <td>1</td>\n",
       "      <td>7</td>\n",
       "    </tr>\n",
       "  </tbody>\n",
       "</table>\n",
       "<p>40000 rows × 48 columns</p>\n",
       "</div>"
      ],
      "text/plain": [
       "       numofdependence  monthlyfixedincome  monthlyvariableincome  \\\n",
       "0                    0           1760000.0                    0.0   \n",
       "1                    1           3200000.0                    0.0   \n",
       "2                    1           3500000.0                    0.0   \n",
       "3                    3                 0.0               950000.0   \n",
       "4                    3           1200000.0                    0.0   \n",
       "...                ...                 ...                    ...   \n",
       "39995                1           1900000.0                    0.0   \n",
       "39996                1           3000000.0              3500000.0   \n",
       "39997                1           5000000.0                    0.0   \n",
       "39998                3           2350574.0                    0.0   \n",
       "39999                1           1500000.0                    0.0   \n",
       "\n",
       "       spouseincome    avg_income    std_income  avg_income_cnt  \\\n",
       "0               0.0  2.456146e+06  9.010644e+06         13082.0   \n",
       "1               0.0  3.197767e+06  1.643649e+06          1188.0   \n",
       "2               0.0  3.598656e+06  2.093555e+06          3000.0   \n",
       "3               0.0  2.634084e+06  1.816447e+06           814.0   \n",
       "4               0.0  2.222745e+06  1.217200e+06           294.0   \n",
       "...             ...           ...           ...             ...   \n",
       "39995           0.0  2.494668e+06  8.730452e+05           343.0   \n",
       "39996           0.0  3.752965e+06  1.940995e+06            55.0   \n",
       "39997           0.0  8.114166e+07  2.487357e+09          1069.0   \n",
       "39998           0.0  3.169430e+06  1.942562e+06          1368.0   \n",
       "39999           0.0  3.035762e+06  2.067764e+06           151.0   \n",
       "\n",
       "       avg_income_nation  std_income_nation  avg_income_nation_cnt  ...  \\\n",
       "0           9.336151e+08       9.643547e+11              1075437.0  ...   \n",
       "1           4.792272e+06       3.890322e+08              1418874.0  ...   \n",
       "2           4.792272e+06       3.890322e+08              1418874.0  ...   \n",
       "3           4.792272e+06       3.890322e+08              1418874.0  ...   \n",
       "4           4.792272e+06       3.890322e+08              1418874.0  ...   \n",
       "...                  ...                ...                    ...  ...   \n",
       "39995       3.039899e+06       3.545020e+07                18680.0  ...   \n",
       "39996       3.595605e+06       2.733836e+06                25981.0  ...   \n",
       "39997       4.792272e+06       3.890322e+08              1418874.0  ...   \n",
       "39998       9.336151e+08       9.643547e+11              1075437.0  ...   \n",
       "39999       4.792272e+06       3.890322e+08              1418874.0  ...   \n",
       "\n",
       "       col_0  col_1  col_2  col_3  col_4  col_5  col_6  col_7  professionid  \\\n",
       "0          1      1      0      0      3      0      0      0             3   \n",
       "1          1      1      0      0      1      0      0      2             1   \n",
       "2          3      0      0      1      1      0      0      0             1   \n",
       "3          0      0      0      3      2      0      0      0             1   \n",
       "4          0      2      1      0      1      1      0      0             1   \n",
       "...      ...    ...    ...    ...    ...    ...    ...    ...           ...   \n",
       "39995      0      1      1      0      1      2      0      0             3   \n",
       "39996      0      0      0      1      1      3      0      0             3   \n",
       "39997      0      1      0      3      1      0      0      0             1   \n",
       "39998      0      0      0      0      4      1      0      0             2   \n",
       "39999      1      0      0      0      1      3      0      0             1   \n",
       "\n",
       "       education  \n",
       "0              0  \n",
       "1              3  \n",
       "2              7  \n",
       "3              7  \n",
       "4              7  \n",
       "...          ...  \n",
       "39995          7  \n",
       "39996          7  \n",
       "39997          7  \n",
       "39998          0  \n",
       "39999          7  \n",
       "\n",
       "[40000 rows x 48 columns]"
      ]
     },
     "execution_count": 656,
     "metadata": {},
     "output_type": "execute_result"
    }
   ],
   "source": [
    "X"
   ]
  },
  {
   "cell_type": "markdown",
   "metadata": {},
   "source": [
    "# Feature selection"
   ]
  },
  {
   "cell_type": "code",
   "execution_count": 575,
   "metadata": {},
   "outputs": [
    {
     "data": {
      "text/plain": [
       "SelectKBest(k=15, score_func=<function chi2 at 0x0000015762FAFE50>)"
      ]
     },
     "execution_count": 575,
     "metadata": {},
     "output_type": "execute_result"
    }
   ],
   "source": [
    "# numerical feature selection using KBest\n",
    "# chi because it's good for classification: Compute chi-squared stats between each non-negative feature and class.\n",
    "X_quant = X[quant]\n",
    "selector = SelectKBest(chi2, k=15)\n",
    "selector.fit(X_quant, y)"
   ]
  },
  {
   "cell_type": "code",
   "execution_count": 576,
   "metadata": {},
   "outputs": [
    {
     "data": {
      "text/html": [
       "<div>\n",
       "<style scoped>\n",
       "    .dataframe tbody tr th:only-of-type {\n",
       "        vertical-align: middle;\n",
       "    }\n",
       "\n",
       "    .dataframe tbody tr th {\n",
       "        vertical-align: top;\n",
       "    }\n",
       "\n",
       "    .dataframe thead th {\n",
       "        text-align: right;\n",
       "    }\n",
       "</style>\n",
       "<table border=\"1\" class=\"dataframe\">\n",
       "  <thead>\n",
       "    <tr style=\"text-align: right;\">\n",
       "      <th></th>\n",
       "      <th>avg_income</th>\n",
       "      <th>std_income</th>\n",
       "      <th>avg_income_nation</th>\n",
       "      <th>std_income_nation</th>\n",
       "      <th>avg_income_area</th>\n",
       "      <th>std_icnome_area</th>\n",
       "      <th>std_sale_apartment_price_5000</th>\n",
       "      <th>avg_rent_house_price_5000</th>\n",
       "      <th>std_rent_house_price_5000</th>\n",
       "      <th>std_rent_apartment_price_5000</th>\n",
       "      <th>avg_sale_house_price_10000</th>\n",
       "      <th>std_sale_apartment_price_10000</th>\n",
       "      <th>std_rent_house_price_10000</th>\n",
       "      <th>avg_rent_apartment_price_10000</th>\n",
       "      <th>std_rent_apartment_price_10000</th>\n",
       "    </tr>\n",
       "  </thead>\n",
       "  <tbody>\n",
       "    <tr>\n",
       "      <th>0</th>\n",
       "      <td>2.456146e+06</td>\n",
       "      <td>9.010644e+06</td>\n",
       "      <td>9.336151e+08</td>\n",
       "      <td>9.643547e+11</td>\n",
       "      <td>2.727685e+06</td>\n",
       "      <td>6.765428e+06</td>\n",
       "      <td>1.349636e+08</td>\n",
       "      <td>3.670000e+07</td>\n",
       "      <td>3.936101e+07</td>\n",
       "      <td>6.716175e+06</td>\n",
       "      <td>1.099753e+09</td>\n",
       "      <td>4.209071e+09</td>\n",
       "      <td>3.936101e+07</td>\n",
       "      <td>8.668011e+06</td>\n",
       "      <td>1.180618e+07</td>\n",
       "    </tr>\n",
       "    <tr>\n",
       "      <th>1</th>\n",
       "      <td>3.197767e+06</td>\n",
       "      <td>1.643649e+06</td>\n",
       "      <td>4.792272e+06</td>\n",
       "      <td>3.890322e+08</td>\n",
       "      <td>3.044549e+06</td>\n",
       "      <td>1.569060e+06</td>\n",
       "      <td>2.568821e+08</td>\n",
       "      <td>5.565769e+07</td>\n",
       "      <td>4.625849e+07</td>\n",
       "      <td>7.643707e+07</td>\n",
       "      <td>5.212500e+08</td>\n",
       "      <td>1.940358e+08</td>\n",
       "      <td>4.625849e+07</td>\n",
       "      <td>5.366614e+06</td>\n",
       "      <td>2.020980e+07</td>\n",
       "    </tr>\n",
       "    <tr>\n",
       "      <th>2</th>\n",
       "      <td>3.598656e+06</td>\n",
       "      <td>2.093555e+06</td>\n",
       "      <td>4.792272e+06</td>\n",
       "      <td>3.890322e+08</td>\n",
       "      <td>3.407493e+06</td>\n",
       "      <td>1.970463e+06</td>\n",
       "      <td>8.390722e+07</td>\n",
       "      <td>3.550741e+07</td>\n",
       "      <td>2.221641e+07</td>\n",
       "      <td>1.034687e+07</td>\n",
       "      <td>7.866667e+08</td>\n",
       "      <td>2.242421e+08</td>\n",
       "      <td>2.777081e+07</td>\n",
       "      <td>3.978571e+06</td>\n",
       "      <td>4.601236e+06</td>\n",
       "    </tr>\n",
       "    <tr>\n",
       "      <th>3</th>\n",
       "      <td>2.634084e+06</td>\n",
       "      <td>1.816447e+06</td>\n",
       "      <td>4.792272e+06</td>\n",
       "      <td>3.890322e+08</td>\n",
       "      <td>2.741263e+06</td>\n",
       "      <td>1.595457e+06</td>\n",
       "      <td>5.076899e+07</td>\n",
       "      <td>4.255247e+07</td>\n",
       "      <td>2.247321e+07</td>\n",
       "      <td>2.247583e+07</td>\n",
       "      <td>6.479231e+08</td>\n",
       "      <td>1.427741e+08</td>\n",
       "      <td>8.359920e+07</td>\n",
       "      <td>4.000000e+06</td>\n",
       "      <td>4.134859e+06</td>\n",
       "    </tr>\n",
       "    <tr>\n",
       "      <th>4</th>\n",
       "      <td>2.222745e+06</td>\n",
       "      <td>1.217200e+06</td>\n",
       "      <td>4.792272e+06</td>\n",
       "      <td>3.890322e+08</td>\n",
       "      <td>2.242149e+06</td>\n",
       "      <td>1.184915e+06</td>\n",
       "      <td>3.616925e+09</td>\n",
       "      <td>5.285000e+07</td>\n",
       "      <td>3.765592e+07</td>\n",
       "      <td>5.164213e+08</td>\n",
       "      <td>2.481250e+08</td>\n",
       "      <td>3.616925e+09</td>\n",
       "      <td>2.428889e+07</td>\n",
       "      <td>3.881579e+06</td>\n",
       "      <td>3.984826e+06</td>\n",
       "    </tr>\n",
       "  </tbody>\n",
       "</table>\n",
       "</div>"
      ],
      "text/plain": [
       "     avg_income    std_income  avg_income_nation  std_income_nation  \\\n",
       "0  2.456146e+06  9.010644e+06       9.336151e+08       9.643547e+11   \n",
       "1  3.197767e+06  1.643649e+06       4.792272e+06       3.890322e+08   \n",
       "2  3.598656e+06  2.093555e+06       4.792272e+06       3.890322e+08   \n",
       "3  2.634084e+06  1.816447e+06       4.792272e+06       3.890322e+08   \n",
       "4  2.222745e+06  1.217200e+06       4.792272e+06       3.890322e+08   \n",
       "\n",
       "   avg_income_area  std_icnome_area  std_sale_apartment_price_5000  \\\n",
       "0     2.727685e+06     6.765428e+06                   1.349636e+08   \n",
       "1     3.044549e+06     1.569060e+06                   2.568821e+08   \n",
       "2     3.407493e+06     1.970463e+06                   8.390722e+07   \n",
       "3     2.741263e+06     1.595457e+06                   5.076899e+07   \n",
       "4     2.242149e+06     1.184915e+06                   3.616925e+09   \n",
       "\n",
       "   avg_rent_house_price_5000  std_rent_house_price_5000  \\\n",
       "0               3.670000e+07               3.936101e+07   \n",
       "1               5.565769e+07               4.625849e+07   \n",
       "2               3.550741e+07               2.221641e+07   \n",
       "3               4.255247e+07               2.247321e+07   \n",
       "4               5.285000e+07               3.765592e+07   \n",
       "\n",
       "   std_rent_apartment_price_5000  avg_sale_house_price_10000  \\\n",
       "0                   6.716175e+06                1.099753e+09   \n",
       "1                   7.643707e+07                5.212500e+08   \n",
       "2                   1.034687e+07                7.866667e+08   \n",
       "3                   2.247583e+07                6.479231e+08   \n",
       "4                   5.164213e+08                2.481250e+08   \n",
       "\n",
       "   std_sale_apartment_price_10000  std_rent_house_price_10000  \\\n",
       "0                    4.209071e+09                3.936101e+07   \n",
       "1                    1.940358e+08                4.625849e+07   \n",
       "2                    2.242421e+08                2.777081e+07   \n",
       "3                    1.427741e+08                8.359920e+07   \n",
       "4                    3.616925e+09                2.428889e+07   \n",
       "\n",
       "   avg_rent_apartment_price_10000  std_rent_apartment_price_10000  \n",
       "0                    8.668011e+06                    1.180618e+07  \n",
       "1                    5.366614e+06                    2.020980e+07  \n",
       "2                    3.978571e+06                    4.601236e+06  \n",
       "3                    4.000000e+06                    4.134859e+06  \n",
       "4                    3.881579e+06                    3.984826e+06  "
      ]
     },
     "execution_count": 576,
     "metadata": {},
     "output_type": "execute_result"
    }
   ],
   "source": [
    "select_cols = selector.get_support(indices = True)\n",
    "select_num_cols = X_quant.iloc[:,select_cols]\n",
    "select_num_col_name = select_num_cols.columns\n",
    "select_num_cols.head()"
   ]
  },
  {
   "cell_type": "code",
   "execution_count": 484,
   "metadata": {},
   "outputs": [],
   "source": [
    "# Select top 30 important numerical columns with RFE\n",
    "# RFE: Recursive feature eliminaiton \n",
    "from sklearn.feature_selection import RFE\n",
    "from sklearn.linear_model import LogisticRegression"
   ]
  },
  {
   "cell_type": "code",
   "execution_count": 577,
   "metadata": {},
   "outputs": [
    {
     "data": {
      "text/html": [
       "<div>\n",
       "<style scoped>\n",
       "    .dataframe tbody tr th:only-of-type {\n",
       "        vertical-align: middle;\n",
       "    }\n",
       "\n",
       "    .dataframe tbody tr th {\n",
       "        vertical-align: top;\n",
       "    }\n",
       "\n",
       "    .dataframe thead th {\n",
       "        text-align: right;\n",
       "    }\n",
       "</style>\n",
       "<table border=\"1\" class=\"dataframe\">\n",
       "  <thead>\n",
       "    <tr style=\"text-align: right;\">\n",
       "      <th></th>\n",
       "      <th>avg_income</th>\n",
       "      <th>std_income</th>\n",
       "      <th>avg_income_nation</th>\n",
       "      <th>std_income_nation</th>\n",
       "      <th>avg_income_area</th>\n",
       "      <th>std_icnome_area</th>\n",
       "      <th>std_sale_apartment_price_5000</th>\n",
       "      <th>avg_rent_house_price_5000</th>\n",
       "      <th>std_rent_house_price_5000</th>\n",
       "      <th>std_rent_apartment_price_5000</th>\n",
       "      <th>avg_sale_house_price_10000</th>\n",
       "      <th>std_sale_apartment_price_10000</th>\n",
       "      <th>std_rent_house_price_10000</th>\n",
       "      <th>avg_rent_apartment_price_10000</th>\n",
       "      <th>std_rent_apartment_price_10000</th>\n",
       "    </tr>\n",
       "  </thead>\n",
       "  <tbody>\n",
       "    <tr>\n",
       "      <th>0</th>\n",
       "      <td>2.456146e+06</td>\n",
       "      <td>9.010644e+06</td>\n",
       "      <td>9.336151e+08</td>\n",
       "      <td>9.643547e+11</td>\n",
       "      <td>2.727685e+06</td>\n",
       "      <td>6.765428e+06</td>\n",
       "      <td>1.349636e+08</td>\n",
       "      <td>3.670000e+07</td>\n",
       "      <td>3.936101e+07</td>\n",
       "      <td>6.716175e+06</td>\n",
       "      <td>1.099753e+09</td>\n",
       "      <td>4.209071e+09</td>\n",
       "      <td>3.936101e+07</td>\n",
       "      <td>8.668011e+06</td>\n",
       "      <td>1.180618e+07</td>\n",
       "    </tr>\n",
       "    <tr>\n",
       "      <th>1</th>\n",
       "      <td>3.197767e+06</td>\n",
       "      <td>1.643649e+06</td>\n",
       "      <td>4.792272e+06</td>\n",
       "      <td>3.890322e+08</td>\n",
       "      <td>3.044549e+06</td>\n",
       "      <td>1.569060e+06</td>\n",
       "      <td>2.568821e+08</td>\n",
       "      <td>5.565769e+07</td>\n",
       "      <td>4.625849e+07</td>\n",
       "      <td>7.643707e+07</td>\n",
       "      <td>5.212500e+08</td>\n",
       "      <td>1.940358e+08</td>\n",
       "      <td>4.625849e+07</td>\n",
       "      <td>5.366614e+06</td>\n",
       "      <td>2.020980e+07</td>\n",
       "    </tr>\n",
       "    <tr>\n",
       "      <th>2</th>\n",
       "      <td>3.598656e+06</td>\n",
       "      <td>2.093555e+06</td>\n",
       "      <td>4.792272e+06</td>\n",
       "      <td>3.890322e+08</td>\n",
       "      <td>3.407493e+06</td>\n",
       "      <td>1.970463e+06</td>\n",
       "      <td>8.390722e+07</td>\n",
       "      <td>3.550741e+07</td>\n",
       "      <td>2.221641e+07</td>\n",
       "      <td>1.034687e+07</td>\n",
       "      <td>7.866667e+08</td>\n",
       "      <td>2.242421e+08</td>\n",
       "      <td>2.777081e+07</td>\n",
       "      <td>3.978571e+06</td>\n",
       "      <td>4.601236e+06</td>\n",
       "    </tr>\n",
       "    <tr>\n",
       "      <th>3</th>\n",
       "      <td>2.634084e+06</td>\n",
       "      <td>1.816447e+06</td>\n",
       "      <td>4.792272e+06</td>\n",
       "      <td>3.890322e+08</td>\n",
       "      <td>2.741263e+06</td>\n",
       "      <td>1.595457e+06</td>\n",
       "      <td>5.076899e+07</td>\n",
       "      <td>4.255247e+07</td>\n",
       "      <td>2.247321e+07</td>\n",
       "      <td>2.247583e+07</td>\n",
       "      <td>6.479231e+08</td>\n",
       "      <td>1.427741e+08</td>\n",
       "      <td>8.359920e+07</td>\n",
       "      <td>4.000000e+06</td>\n",
       "      <td>4.134859e+06</td>\n",
       "    </tr>\n",
       "    <tr>\n",
       "      <th>4</th>\n",
       "      <td>2.222745e+06</td>\n",
       "      <td>1.217200e+06</td>\n",
       "      <td>4.792272e+06</td>\n",
       "      <td>3.890322e+08</td>\n",
       "      <td>2.242149e+06</td>\n",
       "      <td>1.184915e+06</td>\n",
       "      <td>3.616925e+09</td>\n",
       "      <td>5.285000e+07</td>\n",
       "      <td>3.765592e+07</td>\n",
       "      <td>5.164213e+08</td>\n",
       "      <td>2.481250e+08</td>\n",
       "      <td>3.616925e+09</td>\n",
       "      <td>2.428889e+07</td>\n",
       "      <td>3.881579e+06</td>\n",
       "      <td>3.984826e+06</td>\n",
       "    </tr>\n",
       "  </tbody>\n",
       "</table>\n",
       "</div>"
      ],
      "text/plain": [
       "     avg_income    std_income  avg_income_nation  std_income_nation  \\\n",
       "0  2.456146e+06  9.010644e+06       9.336151e+08       9.643547e+11   \n",
       "1  3.197767e+06  1.643649e+06       4.792272e+06       3.890322e+08   \n",
       "2  3.598656e+06  2.093555e+06       4.792272e+06       3.890322e+08   \n",
       "3  2.634084e+06  1.816447e+06       4.792272e+06       3.890322e+08   \n",
       "4  2.222745e+06  1.217200e+06       4.792272e+06       3.890322e+08   \n",
       "\n",
       "   avg_income_area  std_icnome_area  std_sale_apartment_price_5000  \\\n",
       "0     2.727685e+06     6.765428e+06                   1.349636e+08   \n",
       "1     3.044549e+06     1.569060e+06                   2.568821e+08   \n",
       "2     3.407493e+06     1.970463e+06                   8.390722e+07   \n",
       "3     2.741263e+06     1.595457e+06                   5.076899e+07   \n",
       "4     2.242149e+06     1.184915e+06                   3.616925e+09   \n",
       "\n",
       "   avg_rent_house_price_5000  std_rent_house_price_5000  \\\n",
       "0               3.670000e+07               3.936101e+07   \n",
       "1               5.565769e+07               4.625849e+07   \n",
       "2               3.550741e+07               2.221641e+07   \n",
       "3               4.255247e+07               2.247321e+07   \n",
       "4               5.285000e+07               3.765592e+07   \n",
       "\n",
       "   std_rent_apartment_price_5000  avg_sale_house_price_10000  \\\n",
       "0                   6.716175e+06                1.099753e+09   \n",
       "1                   7.643707e+07                5.212500e+08   \n",
       "2                   1.034687e+07                7.866667e+08   \n",
       "3                   2.247583e+07                6.479231e+08   \n",
       "4                   5.164213e+08                2.481250e+08   \n",
       "\n",
       "   std_sale_apartment_price_10000  std_rent_house_price_10000  \\\n",
       "0                    4.209071e+09                3.936101e+07   \n",
       "1                    1.940358e+08                4.625849e+07   \n",
       "2                    2.242421e+08                2.777081e+07   \n",
       "3                    1.427741e+08                8.359920e+07   \n",
       "4                    3.616925e+09                2.428889e+07   \n",
       "\n",
       "   avg_rent_apartment_price_10000  std_rent_apartment_price_10000  \n",
       "0                    8.668011e+06                    1.180618e+07  \n",
       "1                    5.366614e+06                    2.020980e+07  \n",
       "2                    3.978571e+06                    4.601236e+06  \n",
       "3                    4.000000e+06                    4.134859e+06  \n",
       "4                    3.881579e+06                    3.984826e+06  "
      ]
     },
     "execution_count": 577,
     "metadata": {},
     "output_type": "execute_result"
    }
   ],
   "source": [
    "selector = RFE(LogisticRegression(), n_features_to_select=15, step=1, verbose = 2)\n",
    "selector = selector.fit(select_num_cols, y)\n",
    "select_cols = selector.get_support(indices = True)\n",
    "select_cols_df = select_num_cols.iloc[:,select_cols]\n",
    "\n",
    "best_X_col_name = select_cols_df.columns\n",
    "select_cols_df.head()"
   ]
  },
  {
   "cell_type": "code",
   "execution_count": 578,
   "metadata": {},
   "outputs": [
    {
     "data": {
      "text/plain": [
       "set()"
      ]
     },
     "execution_count": 578,
     "metadata": {},
     "output_type": "execute_result"
    }
   ],
   "source": [
    "set(select_cols_df.columns)^set(select_num_cols.columns)"
   ]
  },
  {
   "cell_type": "markdown",
   "metadata": {},
   "source": [
    "They returned the same columns of importance"
   ]
  },
  {
   "cell_type": "markdown",
   "metadata": {},
   "source": [
    "# Model"
   ]
  },
  {
   "cell_type": "markdown",
   "metadata": {},
   "source": [
    "## Model without filtering columns (without feature selection)"
   ]
  },
  {
   "cell_type": "code",
   "execution_count": 499,
   "metadata": {},
   "outputs": [],
   "source": [
    "# Create training, testing set\n",
    "X_train, X_test, y_train, y_test = train_test_split(X, y, test_size=0.25, random_state=1)"
   ]
  },
  {
   "cell_type": "markdown",
   "metadata": {},
   "source": [
    "Trying different models\n",
    "- K-means Classifier\n",
    "- Logistic Regression\n",
    "- Decision Tree Classifier\n",
    "- Random Forest Classifier\n",
    "- XGBoost"
   ]
  },
  {
   "cell_type": "code",
   "execution_count": 670,
   "metadata": {},
   "outputs": [],
   "source": [
    "def loan_model(model, X_train, X_test, y_train, y_test):\n",
    "    output = {}\n",
    "    clf = model\n",
    "    clf.fit(X_train, y_train)\n",
    "    output['clf_train_pred'] = sum(clf.predict(X_train) == y_train)/len(X_train)\n",
    "    output['clf_test_pred'] = sum(clf.predict(X_test) == y_test)/len(X_test)\n",
    "\n",
    "    output['mean_train_cvs'] =np.mean(cross_val_score(estimator = clf, y = y_train, X = X_train, cv=5, scoring='roc_auc'))\n",
    "    output['mean_test_cvs'] =np.mean(cross_val_score(estimator = clf, y = y_test, \\\n",
    "                                                X = X_test, cv=5, scoring='roc_auc'))\n",
    "    \n",
    "    return output"
   ]
  },
  {
   "cell_type": "code",
   "execution_count": 671,
   "metadata": {},
   "outputs": [
    {
     "name": "stdout",
     "output_type": "stream",
     "text": [
      "Wall time: 10min 6s\n"
     ]
    },
    {
     "data": {
      "text/plain": [
       "{'clf_train_pred': 0.5004333333333333,\n",
       " 'clf_test_pred': 0.4995,\n",
       " 'mean_train_cvs': 0.5341736903567421,\n",
       " 'mean_test_cvs': 0.5390419197362196}"
      ]
     },
     "execution_count": 671,
     "metadata": {},
     "output_type": "execute_result"
    }
   ],
   "source": [
    "%%time\n",
    "sv = loan_model(svm.SVC(), X_train, X_test, y_train, y_test)\n",
    "sv"
   ]
  },
  {
   "cell_type": "code",
   "execution_count": 672,
   "metadata": {},
   "outputs": [
    {
     "name": "stdout",
     "output_type": "stream",
     "text": [
      "Wall time: 1.47 s\n"
     ]
    },
    {
     "data": {
      "text/plain": [
       "{'clf_train_pred': 0.5990333333333333,\n",
       " 'clf_test_pred': 0.5845,\n",
       " 'mean_train_cvs': 0.6103934716661548,\n",
       " 'mean_test_cvs': 0.5870239392860392}"
      ]
     },
     "execution_count": 672,
     "metadata": {},
     "output_type": "execute_result"
    }
   ],
   "source": [
    "%%time\n",
    "decisiontree = loan_model(DecisionTreeClassifier(max_depth = 5, min_samples_leaf = 2), X_train, X_test, y_train, y_test)\n",
    "decisiontree"
   ]
  },
  {
   "cell_type": "code",
   "execution_count": 673,
   "metadata": {},
   "outputs": [
    {
     "name": "stdout",
     "output_type": "stream",
     "text": [
      "Wall time: 4.36 s\n"
     ]
    },
    {
     "data": {
      "text/plain": [
       "{'clf_train_pred': 0.9962333333333333,\n",
       " 'clf_test_pred': 0.5463,\n",
       " 'mean_train_cvs': 0.5471991910981088,\n",
       " 'mean_test_cvs': 0.5334307144211146}"
      ]
     },
     "execution_count": 673,
     "metadata": {},
     "output_type": "execute_result"
    }
   ],
   "source": [
    "%%time\n",
    "decisiontree2 = loan_model(DecisionTreeClassifier(), X_train, X_test, y_train, y_test)\n",
    "decisiontree2"
   ]
  },
  {
   "cell_type": "code",
   "execution_count": 674,
   "metadata": {},
   "outputs": [
    {
     "name": "stdout",
     "output_type": "stream",
     "text": [
      "[12:57:20] WARNING: C:/Users/Administrator/workspace/xgboost-win64_release_1.4.0/src/learner.cc:1095: Starting in XGBoost 1.3.0, the default evaluation metric used with the objective 'binary:logistic' was changed from 'error' to 'logloss'. Explicitly set eval_metric if you'd like to restore the old behavior.\n"
     ]
    },
    {
     "name": "stderr",
     "output_type": "stream",
     "text": [
      "C:\\Users\\Yingyin\\miniconda3\\lib\\site-packages\\xgboost\\sklearn.py:1146: UserWarning: The use of label encoder in XGBClassifier is deprecated and will be removed in a future release. To remove this warning, do the following: 1) Pass option use_label_encoder=False when constructing XGBClassifier object; and 2) Encode your labels (y) as integers starting with 0, i.e. 0, 1, 2, ..., [num_class - 1].\n",
      "  warnings.warn(label_encoder_deprecation_msg, UserWarning)\n",
      "C:\\Users\\Yingyin\\miniconda3\\lib\\site-packages\\xgboost\\data.py:112: UserWarning: Use subset (sliced data) of np.ndarray is not recommended because it will generate extra copies and increase memory consumption\n",
      "  warnings.warn(\n",
      "C:\\Users\\Yingyin\\miniconda3\\lib\\site-packages\\xgboost\\data.py:112: UserWarning: Use subset (sliced data) of np.ndarray is not recommended because it will generate extra copies and increase memory consumption\n",
      "  warnings.warn(\n",
      "C:\\Users\\Yingyin\\miniconda3\\lib\\site-packages\\xgboost\\sklearn.py:1146: UserWarning: The use of label encoder in XGBClassifier is deprecated and will be removed in a future release. To remove this warning, do the following: 1) Pass option use_label_encoder=False when constructing XGBClassifier object; and 2) Encode your labels (y) as integers starting with 0, i.e. 0, 1, 2, ..., [num_class - 1].\n",
      "  warnings.warn(label_encoder_deprecation_msg, UserWarning)\n"
     ]
    },
    {
     "name": "stdout",
     "output_type": "stream",
     "text": [
      "[12:57:35] WARNING: C:/Users/Administrator/workspace/xgboost-win64_release_1.4.0/src/learner.cc:1095: Starting in XGBoost 1.3.0, the default evaluation metric used with the objective 'binary:logistic' was changed from 'error' to 'logloss'. Explicitly set eval_metric if you'd like to restore the old behavior.\n"
     ]
    },
    {
     "name": "stderr",
     "output_type": "stream",
     "text": [
      "C:\\Users\\Yingyin\\miniconda3\\lib\\site-packages\\xgboost\\data.py:112: UserWarning: Use subset (sliced data) of np.ndarray is not recommended because it will generate extra copies and increase memory consumption\n",
      "  warnings.warn(\n",
      "C:\\Users\\Yingyin\\miniconda3\\lib\\site-packages\\xgboost\\sklearn.py:1146: UserWarning: The use of label encoder in XGBClassifier is deprecated and will be removed in a future release. To remove this warning, do the following: 1) Pass option use_label_encoder=False when constructing XGBClassifier object; and 2) Encode your labels (y) as integers starting with 0, i.e. 0, 1, 2, ..., [num_class - 1].\n",
      "  warnings.warn(label_encoder_deprecation_msg, UserWarning)\n"
     ]
    },
    {
     "name": "stdout",
     "output_type": "stream",
     "text": [
      "[12:57:45] WARNING: C:/Users/Administrator/workspace/xgboost-win64_release_1.4.0/src/learner.cc:1095: Starting in XGBoost 1.3.0, the default evaluation metric used with the objective 'binary:logistic' was changed from 'error' to 'logloss'. Explicitly set eval_metric if you'd like to restore the old behavior.\n"
     ]
    },
    {
     "name": "stderr",
     "output_type": "stream",
     "text": [
      "C:\\Users\\Yingyin\\miniconda3\\lib\\site-packages\\xgboost\\data.py:112: UserWarning: Use subset (sliced data) of np.ndarray is not recommended because it will generate extra copies and increase memory consumption\n",
      "  warnings.warn(\n",
      "C:\\Users\\Yingyin\\miniconda3\\lib\\site-packages\\xgboost\\sklearn.py:1146: UserWarning: The use of label encoder in XGBClassifier is deprecated and will be removed in a future release. To remove this warning, do the following: 1) Pass option use_label_encoder=False when constructing XGBClassifier object; and 2) Encode your labels (y) as integers starting with 0, i.e. 0, 1, 2, ..., [num_class - 1].\n",
      "  warnings.warn(label_encoder_deprecation_msg, UserWarning)\n"
     ]
    },
    {
     "name": "stdout",
     "output_type": "stream",
     "text": [
      "[12:57:55] WARNING: C:/Users/Administrator/workspace/xgboost-win64_release_1.4.0/src/learner.cc:1095: Starting in XGBoost 1.3.0, the default evaluation metric used with the objective 'binary:logistic' was changed from 'error' to 'logloss'. Explicitly set eval_metric if you'd like to restore the old behavior.\n"
     ]
    },
    {
     "name": "stderr",
     "output_type": "stream",
     "text": [
      "C:\\Users\\Yingyin\\miniconda3\\lib\\site-packages\\xgboost\\data.py:112: UserWarning: Use subset (sliced data) of np.ndarray is not recommended because it will generate extra copies and increase memory consumption\n",
      "  warnings.warn(\n",
      "C:\\Users\\Yingyin\\miniconda3\\lib\\site-packages\\xgboost\\sklearn.py:1146: UserWarning: The use of label encoder in XGBClassifier is deprecated and will be removed in a future release. To remove this warning, do the following: 1) Pass option use_label_encoder=False when constructing XGBClassifier object; and 2) Encode your labels (y) as integers starting with 0, i.e. 0, 1, 2, ..., [num_class - 1].\n",
      "  warnings.warn(label_encoder_deprecation_msg, UserWarning)\n"
     ]
    },
    {
     "name": "stdout",
     "output_type": "stream",
     "text": [
      "[12:58:06] WARNING: C:/Users/Administrator/workspace/xgboost-win64_release_1.4.0/src/learner.cc:1095: Starting in XGBoost 1.3.0, the default evaluation metric used with the objective 'binary:logistic' was changed from 'error' to 'logloss'. Explicitly set eval_metric if you'd like to restore the old behavior.\n"
     ]
    },
    {
     "name": "stderr",
     "output_type": "stream",
     "text": [
      "C:\\Users\\Yingyin\\miniconda3\\lib\\site-packages\\xgboost\\data.py:112: UserWarning: Use subset (sliced data) of np.ndarray is not recommended because it will generate extra copies and increase memory consumption\n",
      "  warnings.warn(\n",
      "C:\\Users\\Yingyin\\miniconda3\\lib\\site-packages\\xgboost\\sklearn.py:1146: UserWarning: The use of label encoder in XGBClassifier is deprecated and will be removed in a future release. To remove this warning, do the following: 1) Pass option use_label_encoder=False when constructing XGBClassifier object; and 2) Encode your labels (y) as integers starting with 0, i.e. 0, 1, 2, ..., [num_class - 1].\n",
      "  warnings.warn(label_encoder_deprecation_msg, UserWarning)\n"
     ]
    },
    {
     "name": "stdout",
     "output_type": "stream",
     "text": [
      "[12:58:16] WARNING: C:/Users/Administrator/workspace/xgboost-win64_release_1.4.0/src/learner.cc:1095: Starting in XGBoost 1.3.0, the default evaluation metric used with the objective 'binary:logistic' was changed from 'error' to 'logloss'. Explicitly set eval_metric if you'd like to restore the old behavior.\n"
     ]
    },
    {
     "name": "stderr",
     "output_type": "stream",
     "text": [
      "C:\\Users\\Yingyin\\miniconda3\\lib\\site-packages\\xgboost\\data.py:112: UserWarning: Use subset (sliced data) of np.ndarray is not recommended because it will generate extra copies and increase memory consumption\n",
      "  warnings.warn(\n",
      "C:\\Users\\Yingyin\\miniconda3\\lib\\site-packages\\xgboost\\sklearn.py:1146: UserWarning: The use of label encoder in XGBClassifier is deprecated and will be removed in a future release. To remove this warning, do the following: 1) Pass option use_label_encoder=False when constructing XGBClassifier object; and 2) Encode your labels (y) as integers starting with 0, i.e. 0, 1, 2, ..., [num_class - 1].\n",
      "  warnings.warn(label_encoder_deprecation_msg, UserWarning)\n"
     ]
    },
    {
     "name": "stdout",
     "output_type": "stream",
     "text": [
      "[12:58:27] WARNING: C:/Users/Administrator/workspace/xgboost-win64_release_1.4.0/src/learner.cc:1095: Starting in XGBoost 1.3.0, the default evaluation metric used with the objective 'binary:logistic' was changed from 'error' to 'logloss'. Explicitly set eval_metric if you'd like to restore the old behavior.\n"
     ]
    },
    {
     "name": "stderr",
     "output_type": "stream",
     "text": [
      "C:\\Users\\Yingyin\\miniconda3\\lib\\site-packages\\xgboost\\data.py:112: UserWarning: Use subset (sliced data) of np.ndarray is not recommended because it will generate extra copies and increase memory consumption\n",
      "  warnings.warn(\n",
      "C:\\Users\\Yingyin\\miniconda3\\lib\\site-packages\\xgboost\\sklearn.py:1146: UserWarning: The use of label encoder in XGBClassifier is deprecated and will be removed in a future release. To remove this warning, do the following: 1) Pass option use_label_encoder=False when constructing XGBClassifier object; and 2) Encode your labels (y) as integers starting with 0, i.e. 0, 1, 2, ..., [num_class - 1].\n",
      "  warnings.warn(label_encoder_deprecation_msg, UserWarning)\n"
     ]
    },
    {
     "name": "stdout",
     "output_type": "stream",
     "text": [
      "[12:58:30] WARNING: C:/Users/Administrator/workspace/xgboost-win64_release_1.4.0/src/learner.cc:1095: Starting in XGBoost 1.3.0, the default evaluation metric used with the objective 'binary:logistic' was changed from 'error' to 'logloss'. Explicitly set eval_metric if you'd like to restore the old behavior.\n"
     ]
    },
    {
     "name": "stderr",
     "output_type": "stream",
     "text": [
      "C:\\Users\\Yingyin\\miniconda3\\lib\\site-packages\\xgboost\\data.py:112: UserWarning: Use subset (sliced data) of np.ndarray is not recommended because it will generate extra copies and increase memory consumption\n",
      "  warnings.warn(\n",
      "C:\\Users\\Yingyin\\miniconda3\\lib\\site-packages\\xgboost\\sklearn.py:1146: UserWarning: The use of label encoder in XGBClassifier is deprecated and will be removed in a future release. To remove this warning, do the following: 1) Pass option use_label_encoder=False when constructing XGBClassifier object; and 2) Encode your labels (y) as integers starting with 0, i.e. 0, 1, 2, ..., [num_class - 1].\n",
      "  warnings.warn(label_encoder_deprecation_msg, UserWarning)\n"
     ]
    },
    {
     "name": "stdout",
     "output_type": "stream",
     "text": [
      "[12:58:32] WARNING: C:/Users/Administrator/workspace/xgboost-win64_release_1.4.0/src/learner.cc:1095: Starting in XGBoost 1.3.0, the default evaluation metric used with the objective 'binary:logistic' was changed from 'error' to 'logloss'. Explicitly set eval_metric if you'd like to restore the old behavior.\n"
     ]
    },
    {
     "name": "stderr",
     "output_type": "stream",
     "text": [
      "C:\\Users\\Yingyin\\miniconda3\\lib\\site-packages\\xgboost\\data.py:112: UserWarning: Use subset (sliced data) of np.ndarray is not recommended because it will generate extra copies and increase memory consumption\n",
      "  warnings.warn(\n",
      "C:\\Users\\Yingyin\\miniconda3\\lib\\site-packages\\xgboost\\sklearn.py:1146: UserWarning: The use of label encoder in XGBClassifier is deprecated and will be removed in a future release. To remove this warning, do the following: 1) Pass option use_label_encoder=False when constructing XGBClassifier object; and 2) Encode your labels (y) as integers starting with 0, i.e. 0, 1, 2, ..., [num_class - 1].\n",
      "  warnings.warn(label_encoder_deprecation_msg, UserWarning)\n"
     ]
    },
    {
     "name": "stdout",
     "output_type": "stream",
     "text": [
      "[12:58:35] WARNING: C:/Users/Administrator/workspace/xgboost-win64_release_1.4.0/src/learner.cc:1095: Starting in XGBoost 1.3.0, the default evaluation metric used with the objective 'binary:logistic' was changed from 'error' to 'logloss'. Explicitly set eval_metric if you'd like to restore the old behavior.\n"
     ]
    },
    {
     "name": "stderr",
     "output_type": "stream",
     "text": [
      "C:\\Users\\Yingyin\\miniconda3\\lib\\site-packages\\xgboost\\data.py:112: UserWarning: Use subset (sliced data) of np.ndarray is not recommended because it will generate extra copies and increase memory consumption\n",
      "  warnings.warn(\n",
      "C:\\Users\\Yingyin\\miniconda3\\lib\\site-packages\\xgboost\\sklearn.py:1146: UserWarning: The use of label encoder in XGBClassifier is deprecated and will be removed in a future release. To remove this warning, do the following: 1) Pass option use_label_encoder=False when constructing XGBClassifier object; and 2) Encode your labels (y) as integers starting with 0, i.e. 0, 1, 2, ..., [num_class - 1].\n",
      "  warnings.warn(label_encoder_deprecation_msg, UserWarning)\n"
     ]
    },
    {
     "name": "stdout",
     "output_type": "stream",
     "text": [
      "[12:58:38] WARNING: C:/Users/Administrator/workspace/xgboost-win64_release_1.4.0/src/learner.cc:1095: Starting in XGBoost 1.3.0, the default evaluation metric used with the objective 'binary:logistic' was changed from 'error' to 'logloss'. Explicitly set eval_metric if you'd like to restore the old behavior.\n",
      "Wall time: 1min 20s\n"
     ]
    },
    {
     "name": "stderr",
     "output_type": "stream",
     "text": [
      "C:\\Users\\Yingyin\\miniconda3\\lib\\site-packages\\xgboost\\data.py:112: UserWarning: Use subset (sliced data) of np.ndarray is not recommended because it will generate extra copies and increase memory consumption\n",
      "  warnings.warn(\n"
     ]
    },
    {
     "data": {
      "text/plain": [
       "{'clf_train_pred': 0.9960333333333333,\n",
       " 'clf_test_pred': 0.5778,\n",
       " 'mean_train_cvs': 0.6179536830810128,\n",
       " 'mean_test_cvs': 0.602412247047147}"
      ]
     },
     "execution_count": 674,
     "metadata": {},
     "output_type": "execute_result"
    }
   ],
   "source": [
    "%%time\n",
    "xgb = loan_model(XGBClassifier(gamma=0, learning_rate=0.1, max_depth=100, n_estimators=100), X_train, X_test, y_train, y_test)\n",
    "xgb"
   ]
  },
  {
   "cell_type": "code",
   "execution_count": 675,
   "metadata": {},
   "outputs": [
    {
     "name": "stderr",
     "output_type": "stream",
     "text": [
      "C:\\Users\\Yingyin\\miniconda3\\lib\\site-packages\\sklearn\\linear_model\\_logistic.py:763: ConvergenceWarning: lbfgs failed to converge (status=1):\n",
      "STOP: TOTAL NO. of ITERATIONS REACHED LIMIT.\n",
      "\n",
      "Increase the number of iterations (max_iter) or scale the data as shown in:\n",
      "    https://scikit-learn.org/stable/modules/preprocessing.html\n",
      "Please also refer to the documentation for alternative solver options:\n",
      "    https://scikit-learn.org/stable/modules/linear_model.html#logistic-regression\n",
      "  n_iter_i = _check_optimize_result(\n",
      "C:\\Users\\Yingyin\\miniconda3\\lib\\site-packages\\sklearn\\linear_model\\_logistic.py:763: ConvergenceWarning: lbfgs failed to converge (status=1):\n",
      "STOP: TOTAL NO. of ITERATIONS REACHED LIMIT.\n",
      "\n",
      "Increase the number of iterations (max_iter) or scale the data as shown in:\n",
      "    https://scikit-learn.org/stable/modules/preprocessing.html\n",
      "Please also refer to the documentation for alternative solver options:\n",
      "    https://scikit-learn.org/stable/modules/linear_model.html#logistic-regression\n",
      "  n_iter_i = _check_optimize_result(\n",
      "C:\\Users\\Yingyin\\miniconda3\\lib\\site-packages\\sklearn\\linear_model\\_logistic.py:763: ConvergenceWarning: lbfgs failed to converge (status=1):\n",
      "STOP: TOTAL NO. of ITERATIONS REACHED LIMIT.\n",
      "\n",
      "Increase the number of iterations (max_iter) or scale the data as shown in:\n",
      "    https://scikit-learn.org/stable/modules/preprocessing.html\n",
      "Please also refer to the documentation for alternative solver options:\n",
      "    https://scikit-learn.org/stable/modules/linear_model.html#logistic-regression\n",
      "  n_iter_i = _check_optimize_result(\n",
      "C:\\Users\\Yingyin\\miniconda3\\lib\\site-packages\\sklearn\\linear_model\\_logistic.py:763: ConvergenceWarning: lbfgs failed to converge (status=1):\n",
      "STOP: TOTAL NO. of ITERATIONS REACHED LIMIT.\n",
      "\n",
      "Increase the number of iterations (max_iter) or scale the data as shown in:\n",
      "    https://scikit-learn.org/stable/modules/preprocessing.html\n",
      "Please also refer to the documentation for alternative solver options:\n",
      "    https://scikit-learn.org/stable/modules/linear_model.html#logistic-regression\n",
      "  n_iter_i = _check_optimize_result(\n",
      "C:\\Users\\Yingyin\\miniconda3\\lib\\site-packages\\sklearn\\linear_model\\_logistic.py:763: ConvergenceWarning: lbfgs failed to converge (status=1):\n",
      "STOP: TOTAL NO. of ITERATIONS REACHED LIMIT.\n",
      "\n",
      "Increase the number of iterations (max_iter) or scale the data as shown in:\n",
      "    https://scikit-learn.org/stable/modules/preprocessing.html\n",
      "Please also refer to the documentation for alternative solver options:\n",
      "    https://scikit-learn.org/stable/modules/linear_model.html#logistic-regression\n",
      "  n_iter_i = _check_optimize_result(\n",
      "C:\\Users\\Yingyin\\miniconda3\\lib\\site-packages\\sklearn\\linear_model\\_logistic.py:763: ConvergenceWarning: lbfgs failed to converge (status=1):\n",
      "STOP: TOTAL NO. of ITERATIONS REACHED LIMIT.\n",
      "\n",
      "Increase the number of iterations (max_iter) or scale the data as shown in:\n",
      "    https://scikit-learn.org/stable/modules/preprocessing.html\n",
      "Please also refer to the documentation for alternative solver options:\n",
      "    https://scikit-learn.org/stable/modules/linear_model.html#logistic-regression\n",
      "  n_iter_i = _check_optimize_result(\n",
      "C:\\Users\\Yingyin\\miniconda3\\lib\\site-packages\\sklearn\\linear_model\\_logistic.py:763: ConvergenceWarning: lbfgs failed to converge (status=1):\n",
      "STOP: TOTAL NO. of ITERATIONS REACHED LIMIT.\n",
      "\n",
      "Increase the number of iterations (max_iter) or scale the data as shown in:\n",
      "    https://scikit-learn.org/stable/modules/preprocessing.html\n",
      "Please also refer to the documentation for alternative solver options:\n",
      "    https://scikit-learn.org/stable/modules/linear_model.html#logistic-regression\n",
      "  n_iter_i = _check_optimize_result(\n",
      "C:\\Users\\Yingyin\\miniconda3\\lib\\site-packages\\sklearn\\linear_model\\_logistic.py:763: ConvergenceWarning: lbfgs failed to converge (status=1):\n",
      "STOP: TOTAL NO. of ITERATIONS REACHED LIMIT.\n",
      "\n",
      "Increase the number of iterations (max_iter) or scale the data as shown in:\n",
      "    https://scikit-learn.org/stable/modules/preprocessing.html\n",
      "Please also refer to the documentation for alternative solver options:\n",
      "    https://scikit-learn.org/stable/modules/linear_model.html#logistic-regression\n",
      "  n_iter_i = _check_optimize_result(\n"
     ]
    },
    {
     "name": "stdout",
     "output_type": "stream",
     "text": [
      "Wall time: 2.56 s\n"
     ]
    },
    {
     "name": "stderr",
     "output_type": "stream",
     "text": [
      "C:\\Users\\Yingyin\\miniconda3\\lib\\site-packages\\sklearn\\linear_model\\_logistic.py:763: ConvergenceWarning: lbfgs failed to converge (status=1):\n",
      "STOP: TOTAL NO. of ITERATIONS REACHED LIMIT.\n",
      "\n",
      "Increase the number of iterations (max_iter) or scale the data as shown in:\n",
      "    https://scikit-learn.org/stable/modules/preprocessing.html\n",
      "Please also refer to the documentation for alternative solver options:\n",
      "    https://scikit-learn.org/stable/modules/linear_model.html#logistic-regression\n",
      "  n_iter_i = _check_optimize_result(\n"
     ]
    },
    {
     "data": {
      "text/plain": [
       "{'clf_train_pred': 0.5398,\n",
       " 'clf_test_pred': 0.5449,\n",
       " 'mean_train_cvs': 0.5450997687471052,\n",
       " 'mean_test_cvs': 0.5554839208720208}"
      ]
     },
     "execution_count": 675,
     "metadata": {},
     "output_type": "execute_result"
    }
   ],
   "source": [
    "%%time\n",
    "lr = loan_model(LogisticRegression(), X_train, X_test, y_train, y_test)\n",
    "lr"
   ]
  },
  {
   "cell_type": "code",
   "execution_count": 676,
   "metadata": {},
   "outputs": [
    {
     "name": "stdout",
     "output_type": "stream",
     "text": [
      "Wall time: 16.7 s\n"
     ]
    },
    {
     "data": {
      "text/plain": [
       "{'clf_train_pred': 0.6138666666666667,\n",
       " 'clf_test_pred': 0.5938,\n",
       " 'mean_train_cvs': 0.6438975619103131,\n",
       " 'mean_test_cvs': 0.6349546579127578}"
      ]
     },
     "execution_count": 676,
     "metadata": {},
     "output_type": "execute_result"
    }
   ],
   "source": [
    "%%time\n",
    "rfc = loan_model(RandomForestClassifier(max_depth = 5, min_samples_leaf = 2), X_train, X_test, y_train, y_test)\n",
    "rfc"
   ]
  },
  {
   "cell_type": "code",
   "execution_count": 677,
   "metadata": {},
   "outputs": [
    {
     "name": "stdout",
     "output_type": "stream",
     "text": [
      "Wall time: 39 s\n"
     ]
    },
    {
     "data": {
      "text/plain": [
       "{'clf_train_pred': 0.7143333333333334,\n",
       " 'clf_test_pred': 0.5581,\n",
       " 'mean_train_cvs': 0.5897634372985708,\n",
       " 'mean_test_cvs': 0.5670827298479298}"
      ]
     },
     "execution_count": 677,
     "metadata": {},
     "output_type": "execute_result"
    }
   ],
   "source": [
    "%%time\n",
    "knn = loan_model(KNeighborsClassifier(), X_train, X_test, y_train, y_test)\n",
    "knn"
   ]
  },
  {
   "cell_type": "code",
   "execution_count": 678,
   "metadata": {},
   "outputs": [
    {
     "data": {
      "text/html": [
       "<div>\n",
       "<style scoped>\n",
       "    .dataframe tbody tr th:only-of-type {\n",
       "        vertical-align: middle;\n",
       "    }\n",
       "\n",
       "    .dataframe tbody tr th {\n",
       "        vertical-align: top;\n",
       "    }\n",
       "\n",
       "    .dataframe thead th {\n",
       "        text-align: right;\n",
       "    }\n",
       "</style>\n",
       "<table border=\"1\" class=\"dataframe\">\n",
       "  <thead>\n",
       "    <tr style=\"text-align: right;\">\n",
       "      <th></th>\n",
       "      <th>clf_train_pred</th>\n",
       "      <th>clf_test_pred</th>\n",
       "      <th>mean_train_cvs</th>\n",
       "      <th>mean_test_cvs</th>\n",
       "    </tr>\n",
       "  </thead>\n",
       "  <tbody>\n",
       "    <tr>\n",
       "      <th>knn</th>\n",
       "      <td>0.714333</td>\n",
       "      <td>0.5581</td>\n",
       "      <td>0.589763</td>\n",
       "      <td>0.567083</td>\n",
       "    </tr>\n",
       "    <tr>\n",
       "      <th>logistic</th>\n",
       "      <td>0.539800</td>\n",
       "      <td>0.5449</td>\n",
       "      <td>0.545100</td>\n",
       "      <td>0.555484</td>\n",
       "    </tr>\n",
       "    <tr>\n",
       "      <th>randomforest</th>\n",
       "      <td>0.613867</td>\n",
       "      <td>0.5938</td>\n",
       "      <td>0.643898</td>\n",
       "      <td>0.634955</td>\n",
       "    </tr>\n",
       "    <tr>\n",
       "      <th>supportvector</th>\n",
       "      <td>0.500433</td>\n",
       "      <td>0.4995</td>\n",
       "      <td>0.534174</td>\n",
       "      <td>0.539042</td>\n",
       "    </tr>\n",
       "    <tr>\n",
       "      <th>decisiontree</th>\n",
       "      <td>0.599033</td>\n",
       "      <td>0.5845</td>\n",
       "      <td>0.610393</td>\n",
       "      <td>0.587024</td>\n",
       "    </tr>\n",
       "    <tr>\n",
       "      <th>xgb</th>\n",
       "      <td>0.996033</td>\n",
       "      <td>0.5778</td>\n",
       "      <td>0.617954</td>\n",
       "      <td>0.602412</td>\n",
       "    </tr>\n",
       "  </tbody>\n",
       "</table>\n",
       "</div>"
      ],
      "text/plain": [
       "               clf_train_pred  clf_test_pred  mean_train_cvs  mean_test_cvs\n",
       "knn                  0.714333         0.5581        0.589763       0.567083\n",
       "logistic             0.539800         0.5449        0.545100       0.555484\n",
       "randomforest         0.613867         0.5938        0.643898       0.634955\n",
       "supportvector        0.500433         0.4995        0.534174       0.539042\n",
       "decisiontree         0.599033         0.5845        0.610393       0.587024\n",
       "xgb                  0.996033         0.5778        0.617954       0.602412"
      ]
     },
     "execution_count": 678,
     "metadata": {},
     "output_type": "execute_result"
    }
   ],
   "source": [
    "pd.DataFrame(data = [knn, lr, rfc, sv, decisiontree, xgb], index = ['knn', 'logistic', 'randomforest', \\\n",
    "                                                                    'supportvector', 'decisiontree', 'xgb'])"
   ]
  },
  {
   "cell_type": "markdown",
   "metadata": {},
   "source": [
    "Timewise, SV takes around 10 minutes, XGBoost takes 1 min 11s, decision tree takes 1.37s, knn takes 42s, logistic regression takes 2.07s, and random forest takes 13.3s. XGBoost, KNN and SVM take large amount of time, so I decided to disregard them first. We have logistic regression, random forest, and decision tree left to be considered. \n",
    "\n",
    "<br> \n",
    "\n",
    "Among the three classifier, obviously, random forest classifier performs the best, as seen in its highest auc_roc score as well as the training and testing accuracy."
   ]
  },
  {
   "cell_type": "markdown",
   "metadata": {},
   "source": [
    "# Model improvement"
   ]
  },
  {
   "cell_type": "markdown",
   "metadata": {},
   "source": [
    "## parameter tuning"
   ]
  },
  {
   "cell_type": "markdown",
   "metadata": {},
   "source": [
    "We have decided to choose random forest classifier as our classifier. "
   ]
  },
  {
   "cell_type": "code",
   "execution_count": 557,
   "metadata": {},
   "outputs": [
    {
     "name": "stdout",
     "output_type": "stream",
     "text": [
      "5\n",
      "{'clf_train_pred': 0.614, 'clf_test_pred': 0.5952, 'mean_cvs': 0.6429692952517958}\n",
      "6\n",
      "{'clf_train_pred': 0.6267, 'clf_test_pred': 0.6, 'mean_cvs': 0.6481618398971809}\n",
      "7\n",
      "{'clf_train_pred': 0.6403, 'clf_test_pred': 0.6022, 'mean_cvs': 0.6516104955429476}\n",
      "8\n",
      "{'clf_train_pred': 0.6573, 'clf_test_pred': 0.6028, 'mean_cvs': 0.6531257734365143}\n",
      "9\n",
      "{'clf_train_pred': 0.6770333333333334, 'clf_test_pred': 0.6072, 'mean_cvs': 0.6550271512128255}\n",
      "Wall time: 1min 32s\n"
     ]
    }
   ],
   "source": [
    "%%time\n",
    "for depth in range(5,10):\n",
    "    print(depth)\n",
    "    rfc = loan_model(RandomForestClassifier(max_depth = depth, min_samples_leaf = 2))\n",
    "    print(rfc)"
   ]
  },
  {
   "cell_type": "markdown",
   "metadata": {},
   "source": [
    "As max_depth gets higher, training accuracy is higher, while testing accuracy stays relatively the same, which results in overfitting. 6 seems to be a good one. "
   ]
  },
  {
   "cell_type": "code",
   "execution_count": 562,
   "metadata": {},
   "outputs": [
    {
     "name": "stdout",
     "output_type": "stream",
     "text": [
      "1\n",
      "{'clf_train_pred': 0.6410666666666667, 'clf_test_pred': 0.6018, 'mean_cvs': 0.6507675288806439}\n",
      "2\n",
      "{'clf_train_pred': 0.6388, 'clf_test_pred': 0.602, 'mean_cvs': 0.6517753399991502}\n",
      "3\n",
      "{'clf_train_pred': 0.6386, 'clf_test_pred': 0.6024, 'mean_cvs': 0.6514532177811032}\n",
      "4\n",
      "{'clf_train_pred': 0.6392, 'clf_test_pred': 0.6016, 'mean_cvs': 0.6511671955512229}\n"
     ]
    }
   ],
   "source": [
    "for leaf in range(1,5):\n",
    "    print(leaf)\n",
    "    rfc = loan_model(RandomForestClassifier(max_depth = 7, min_samples_leaf = leaf))\n",
    "    print(rfc)"
   ]
  },
  {
   "cell_type": "code",
   "execution_count": 681,
   "metadata": {},
   "outputs": [
    {
     "data": {
      "text/plain": [
       "{'clf_train_pred': 0.638,\n",
       " 'clf_test_pred': 0.6011,\n",
       " 'mean_train_cvs': 0.6516662400893847,\n",
       " 'mean_test_cvs': 0.6394179594397593}"
      ]
     },
     "execution_count": 681,
     "metadata": {},
     "output_type": "execute_result"
    }
   ],
   "source": [
    "loan_model(RandomForestClassifier(max_depth = 7, min_samples_leaf = 2), X_train, X_test, y_train, y_test)"
   ]
  },
  {
   "cell_type": "markdown",
   "metadata": {},
   "source": [
    "min_samples_leaf does not really change the performance much. Will take max_depth = 7 and min_samples_leaf = 2."
   ]
  },
  {
   "cell_type": "markdown",
   "metadata": {},
   "source": [
    "## using the filtered dataset"
   ]
  },
  {
   "cell_type": "code",
   "execution_count": 659,
   "metadata": {},
   "outputs": [],
   "source": [
    "def loan_model(model, X_train, X_test, y_train, y_test):\n",
    "    output = {}\n",
    "    clf = model\n",
    "    clf.fit(X_train, y_train)\n",
    "    output['clf_train_pred'] = sum(clf.predict(X_train) == y_train)/len(X_train)\n",
    "    output['clf_test_pred'] = sum(clf.predict(X_test) == y_test)/len(X_test)\n",
    "\n",
    "    output['mean_train_cvs'] =np.mean(cross_val_score(estimator = clf, y = y_train, \\\n",
    "                                                X = X_train, cv=5, scoring='roc_auc'))\n",
    "    output['mean_test_cvs'] =np.mean(cross_val_score(estimator = clf, y = y_test, \\\n",
    "                                                X = X_test, cv=5, scoring='roc_auc'))\n",
    "    return output"
   ]
  },
  {
   "cell_type": "code",
   "execution_count": 625,
   "metadata": {},
   "outputs": [],
   "source": [
    "# the filtered data is achieved by selecting 15 most important features determined by RFE/ SelectKBest\n",
    "filtered_X = data.merge(select_cols_df, left_index = True, right_index = True)"
   ]
  },
  {
   "cell_type": "code",
   "execution_count": 682,
   "metadata": {},
   "outputs": [
    {
     "data": {
      "text/plain": [
       "{'clf_train_pred': 0.6227333333333334,\n",
       " 'clf_test_pred': 0.5938,\n",
       " 'mean_train_cvs': 0.6300731612770081,\n",
       " 'mean_test_cvs': 0.6220846508193507}"
      ]
     },
     "execution_count": 682,
     "metadata": {},
     "output_type": "execute_result"
    }
   ],
   "source": [
    "# Create training, testing set\n",
    "X_f_train, X_f_test, y_f_train, y_f_test = train_test_split(filtered_X, y, test_size=0.25, random_state=1)\n",
    "filtered_rfc = loan_model(RandomForestClassifier(max_depth = 7, min_samples_leaf = 2), X_f_train, X_f_test, y_f_train, y_f_test)\n",
    "filtered_rfc"
   ]
  },
  {
   "cell_type": "markdown",
   "metadata": {},
   "source": [
    "Performance decreases a little."
   ]
  },
  {
   "cell_type": "markdown",
   "metadata": {},
   "source": [
    "## drop trivial features of Importance"
   ]
  },
  {
   "cell_type": "code",
   "execution_count": 640,
   "metadata": {},
   "outputs": [
    {
     "data": {
      "image/png": "[encoded data removed]",
      "text/plain": [
       "<Figure size 432x288 with 1 Axes>"
      ]
     },
     "metadata": {
      "needs_background": "light"
     },
     "output_type": "display_data"
    }
   ],
   "source": [
    "X_train, X_test, y_train, y_test = train_test_split(X, y, test_size=0.25, random_state=1)\n",
    "clf = DecisionTreeClassifier(max_depth = 7, min_samples_leaf = 2)\n",
    "clf.fit(X_train, y_train)\n",
    "importance = clf.feature_importances_\n",
    "# summarize feature importance\n",
    "\n",
    "plt.bar([x for x in range(len(importance))], importance)\n",
    "plt.show()"
   ]
  },
  {
   "cell_type": "code",
   "execution_count": 642,
   "metadata": {},
   "outputs": [
    {
     "data": {
      "text/plain": [
       "[('previous_converted', 0.2367675302193217),\n",
       " ('monthlyfixedincome', 0.08922885896947111),\n",
       " ('avg_rent_house_price_10000', 0.0821719865048161),\n",
       " ('professionid', 0.06433166173362219),\n",
       " ('avg_income_nation_cnt', 0.047107230997770595),\n",
       " ('std_rent_house_price_10000', 0.04642413423904212),\n",
       " ('std_sale_house_price_10000', 0.029895615051910265),\n",
       " ('std_sale_apartment_price_10000', 0.029495263905653872),\n",
       " ('std_rent_apartment_price_5000', 0.02888082769943309),\n",
       " ('numofdependence', 0.02884944111748557),\n",
       " ('avg_income_area_cnt', 0.028727410001010183),\n",
       " ('avg_sale_house_price_10000', 0.02702623129570158),\n",
       " ('rent_apartment_cnt_5000', 0.02505832480601149),\n",
       " ('avg_income', 0.02427896929018938),\n",
       " ('avg_rent_house_price_5000', 0.020935365144900863),\n",
       " ('std_income', 0.01665667358340935),\n",
       " ('rent_apartment_cnt_10000', 0.016116058562271447),\n",
       " ('std_icnome_area', 0.014970137904392491),\n",
       " ('sale_house_cnt_5000', 0.01408608431170631),\n",
       " ('rent_house_cnt_5000', 0.013527144047142708),\n",
       " ('avg_income_area', 0.011929365865775476),\n",
       " ('rent_house_cnt_10000', 0.01180537707898022),\n",
       " ('avg_income_cnt', 0.008949330328666216),\n",
       " ('std_sale_apartment_price_5000', 0.008156742318719403),\n",
       " ('std_sale_house_price_5000', 0.008152822090131429),\n",
       " ('avg_sale_apartment_price_10000', 0.008146458228216023),\n",
       " ('avg_income_nation', 0.007194391600042008),\n",
       " ('avg_sale_house_price_5000', 0.006978230986440972),\n",
       " ('col_4', 0.0057043182625347464),\n",
       " ('education', 0.005278411647128936),\n",
       " ('sale_house_cnt_10000', 0.004689173725813246),\n",
       " ('std_rent_apartment_price_10000', 0.004482551604010238),\n",
       " ('col_3', 0.004008846980237818),\n",
       " ('col_2', 0.0038078255722965608),\n",
       " ('monthlyvariableincome', 0.0037553193915887935),\n",
       " ('avg_rent_apartment_price_5000', 0.0036503787923102653),\n",
       " ('avg_sale_apartment_price_5000', 0.0025234820491005375),\n",
       " ('sale_apartment_cnt_10000', 0.002177297696883191),\n",
       " ('col_7', 0.0016538632410388505),\n",
       " ('col_0', 0.0015309124431209936),\n",
       " ('avg_rent_apartment_price_10000', 0.0008899507117015771),\n",
       " ('spouseincome', 0.0),\n",
       " ('std_income_nation', 0.0),\n",
       " ('sale_apartment_cnt_5000', 0.0),\n",
       " ('std_rent_house_price_5000', 0.0),\n",
       " ('col_1', 0.0),\n",
       " ('col_5', 0.0),\n",
       " ('col_6', 0.0)]"
      ]
     },
     "execution_count": 642,
     "metadata": {},
     "output_type": "execute_result"
    }
   ],
   "source": [
    "sorted(dict_feature_importance.items(), key=lambda x: x[1], reverse=True)"
   ]
  },
  {
   "cell_type": "code",
   "execution_count": 648,
   "metadata": {},
   "outputs": [],
   "source": [
    "dict_feature_importance = dict(zip(X_train.columns, importance))\n",
    "trivial = []\n",
    "for k,v in zip(X_train.columns, importance):\n",
    "    if v == 0.0:\n",
    "        trivial.append(k)"
   ]
  },
  {
   "cell_type": "code",
   "execution_count": 679,
   "metadata": {},
   "outputs": [
    {
     "data": {
      "text/plain": [
       "41"
      ]
     },
     "execution_count": 679,
     "metadata": {},
     "output_type": "execute_result"
    }
   ],
   "source": [
    "remaining_feat = set(X.columns)^set(trivial)\n",
    "len(remaining_feat)"
   ]
  },
  {
   "cell_type": "code",
   "execution_count": 680,
   "metadata": {},
   "outputs": [
    {
     "data": {
      "text/plain": [
       "{'clf_train_pred': 0.6394,\n",
       " 'clf_test_pred': 0.6041,\n",
       " 'mean_train_cvs': 0.6510398511482736,\n",
       " 'mean_test_cvs': 0.6409332598700599}"
      ]
     },
     "execution_count": 680,
     "metadata": {},
     "output_type": "execute_result"
    }
   ],
   "source": [
    "X_train, X_test, y_train, y_test = train_test_split(X[remaining_feat], y, test_size=0.25, random_state=1)\n",
    "dropped_rfc = loan_model(RandomForestClassifier(max_depth = 7, min_samples_leaf = 2), X_train, X_test, y_train, y_test)\n",
    "dropped_rfc"
   ]
  },
  {
   "cell_type": "markdown",
   "metadata": {},
   "source": [
    "Improved slightly."
   ]
  },
  {
   "cell_type": "code",
   "execution_count": 654,
   "metadata": {},
   "outputs": [
    {
     "data": {
      "image/png": "[encoded data removed]",
      "text/plain": [
       "<Figure size 432x288 with 1 Axes>"
      ]
     },
     "metadata": {
      "needs_background": "light"
     },
     "output_type": "display_data"
    }
   ],
   "source": [
    "clf = DecisionTreeClassifier(max_depth = 7, min_samples_leaf = 2)\n",
    "clf.fit(X_train, y_train)\n",
    "importance = clf.feature_importances_\n",
    "# summarize feature importance\n",
    "\n",
    "plt.bar([x for x in range(len(importance))], importance)\n",
    "plt.show()"
   ]
  },
  {
   "cell_type": "code",
   "execution_count": 655,
   "metadata": {},
   "outputs": [
    {
     "data": {
      "text/plain": [
       "[('previous_converted', 0.2367675302193217),\n",
       " ('monthlyfixedincome', 0.09217344638561248),\n",
       " ('avg_rent_house_price_10000', 0.0821719865048161),\n",
       " ('professionid', 0.06433166173362219),\n",
       " ('avg_income_nation_cnt', 0.047107230997770595),\n",
       " ('std_rent_house_price_10000', 0.04596486050610582),\n",
       " ('avg_income_area_cnt', 0.030088221061562177),\n",
       " ('std_sale_apartment_price_10000', 0.029495263905653872),\n",
       " ('std_sale_house_price_10000', 0.029385310904203262),\n",
       " ('std_rent_apartment_price_5000', 0.02888082769943309),\n",
       " ('numofdependence', 0.028785653099022195),\n",
       " ('avg_sale_house_price_10000', 0.027613302936933197),\n",
       " ('rent_apartment_cnt_5000', 0.02505832480601149),\n",
       " ('avg_income', 0.02286761381881688),\n",
       " ('avg_rent_house_price_5000', 0.020935365144900863),\n",
       " ('sale_house_cnt_5000', 0.0162633820085895),\n",
       " ('rent_apartment_cnt_10000', 0.016116058562271447),\n",
       " ('std_income', 0.01586995468902773),\n",
       " ('std_icnome_area', 0.015578699372465431),\n",
       " ('rent_house_cnt_5000', 0.013527144047142708),\n",
       " ('rent_house_cnt_10000', 0.01180537707898022),\n",
       " ('avg_income_area', 0.011780078130638832),\n",
       " ('avg_income_cnt', 0.008949330328666216),\n",
       " ('std_sale_apartment_price_5000', 0.008156742318719403),\n",
       " ('std_sale_house_price_5000', 0.008152822090131429),\n",
       " ('avg_sale_apartment_price_10000', 0.008146458228216023),\n",
       " ('avg_income_nation', 0.007194391600042008),\n",
       " ('avg_sale_house_price_5000', 0.006978230986440972),\n",
       " ('education', 0.005278411647128936),\n",
       " ('col_3', 0.004833130810378701),\n",
       " ('sale_house_cnt_10000', 0.004689173725813246),\n",
       " ('std_rent_apartment_price_10000', 0.004482551604010238),\n",
       " ('col_4', 0.004157942057362024),\n",
       " ('monthlyvariableincome', 0.0037553193915887935),\n",
       " ('avg_rent_apartment_price_5000', 0.0036503787923102653),\n",
       " ('col_0', 0.0030772886482937157),\n",
       " ('avg_sale_apartment_price_5000', 0.0025234820491005375),\n",
       " ('col_2', 0.002517101397194048),\n",
       " ('avg_rent_apartment_price_10000', 0.0008899507117015771),\n",
       " ('sale_apartment_cnt_10000', 0.0),\n",
       " ('col_7', 0.0)]"
      ]
     },
     "execution_count": 655,
     "metadata": {},
     "output_type": "execute_result"
    }
   ],
   "source": [
    "dic = (dict(zip(X_train.columns, importance)))\n",
    "sorted(dic.items(), key=lambda x: x[1], reverse=True)"
   ]
  },
  {
   "cell_type": "code",
   "execution_count": null,
   "metadata": {},
   "outputs": [],
   "source": []
  }
 ],
 "metadata": {
  "kernelspec": {
   "display_name": "Python 3",
   "language": "python",
   "name": "python3"
  },
  "language_info": {
   "codemirror_mode": {
    "name": "ipython",
    "version": 3
   },
   "file_extension": ".py",
   "mimetype": "text/x-python",
   "name": "python",
   "nbconvert_exporter": "python",
   "pygments_lexer": "ipython3",
   "version": "3.8.3"
  }
 },
 "nbformat": 4,
 "nbformat_minor": 4
}
